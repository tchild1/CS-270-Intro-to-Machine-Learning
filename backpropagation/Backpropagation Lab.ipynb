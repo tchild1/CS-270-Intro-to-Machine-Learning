{
  "cells": [
    {
      "cell_type": "markdown",
      "metadata": {
        "id": "DVL7_bgmIAPR"
      },
      "source": [
        "# Backpropagation Lab\n",
        "\n",
        "\n",
        "\n"
      ]
    },
    {
      "cell_type": "code",
      "execution_count": 2,
      "metadata": {
        "id": "6ZbYjZZZ_yLV"
      },
      "outputs": [],
      "source": [
        "from sklearn.neural_network import MLPClassifier\n",
        "import numpy as np\n",
        "import pandas as pd\n",
        "import matplotlib.pyplot as plt"
      ]
    },
    {
      "cell_type": "markdown",
      "metadata": {
        "id": "9vWiTdlbR2Xh"
      },
      "source": [
        "## 1 Avoiding Overfit: Early Stopping and Loss Regularization\n",
        "\n",
        "### 1.1 (10%) No overfit avoidance\n",
        "Train the sklearn [MLP classifier](https://scikit-learn.org/stable/modules/generated/sklearn.neural_network.MLPClassifier.html#sklearn.neural_network.MLPClassifier) on the [Iris Dataset](https://raw.githubusercontent.com/cs472ta/CS472/master/datasets/iris.arff).  Use 3 output nodes (1 per class). Expanding the one output variable into 3 is called one-hot encoding or dummy variable encoding. There are lots of ways to implement this including the Pandas get_dummies method. This experiment is set up to run a little longer to better see the effects of overfit.  Be patient as there are lots of hidden nodes and a high max iterations setting.\n",
        "\n",
        "Use default parameters except for the following:\n",
        "- hidden_layer_sizes = [64] - One hidden layer with 64 hidden nodes\n",
        "- activation = 'logistic'\n",
        "- solver = 'sgd'\n",
        "- alpha = 0\n",
        "- batch_size = 1\n",
        "- learning_rate_init = 0.01\n",
        "- shuffle = True\n",
        "- momentum = 0\n",
        "- n_iter_no_change = 50\n",
        "- max_iterations = 1000\n",
        "\n",
        "Use a random 80/20 split of the data.  Run it a few times with different random training/test splits and give average values for\n",
        "- Number of iterations until convergence\n",
        "- Training set accuracy\n",
        "- Test set accuracy\n",
        "For one run observe the softmax probabilities on the test set using clf.predict_proba"
      ]
    },
    {
      "cell_type": "code",
      "execution_count": null,
      "metadata": {},
      "outputs": [],
      "source": [
        "#Iris with no regularization\n",
        "from sklearn.model_selection import train_test_split\n",
        "from sklearn.preprocessing import LabelEncoder\n",
        "from scipy.io import arff\n",
        "from sklearn.neural_network import MLPClassifier\n",
        "import pandas as pd\n",
        "\n",
        "# get data\n",
        "irisData = arff.loadarff('iris.arff')\n",
        "\n",
        "# put data into a data frame\n",
        "irisDataFrame = pd.DataFrame(irisData[0])\n",
        "# encode the targets to be 0, 1, 2\n",
        "irisLabelsEncoded = irisDataFrame.apply(LabelEncoder().fit_transform)\n",
        "\n",
        "# define the features\n",
        "X = irisLabelsEncoded[['sepallength', 'sepalwidth', 'petallength', 'petalwidth']]\n",
        "# define the target\n",
        "y = irisLabelsEncoded['class']\n",
        "\n",
        "# split data\n",
        "X_train, X_test, y_train, y_test = train_test_split(X, y, test_size=0.2, train_size=0.8)\n",
        "\n",
        "clf = MLPClassifier(hidden_layer_sizes=[64], activation='logistic', solver='sgd', alpha=0, batch_size=1, learning_rate_init=0.01, shuffle=True, momentum=0, n_iter_no_change=50, max_iter=1000)\n",
        "\n",
        "# train model\n",
        "clf.fit(X_train, y_train)\n",
        "\n",
        "# output model info\n",
        "print('number of iterations: ', clf.n_iter_)\n",
        "print('training score: ', clf.score(X_train, y_train))\n",
        "print('test score', clf.score(X_test, y_test))\n"
      ]
    },
    {
      "cell_type": "markdown",
      "metadata": {},
      "source": [
        "**Discussion:**  \n",
        "I ran the MLP model on the iris dataset several times as the above directions stated. For clarity, I created a table with training accuracy, test accuracy, and number of iterations.  \n",
        "\n",
        "As I reviewed the results provided my the MLP model, I see what I had expected. First, the training accuracy is slightly higher on all trial runs. This is expected because it is on the training data that the MLP model determined and optimized its weights. So, when the model is run on the training data, it is natural that we should generally see a higher score on the training set than on the test set.\n",
        "\n",
        "| Trial | Training Accuracy | Test accuracy | Number of iterations |\n",
        "| --- | --- | --- | --- |\n",
        "| 1 | 0.95 | 0.8666666666666667 | 264 |\n",
        "| 2 | 0.9833333333333333 | 0.9666666666666667 | 238 |\n",
        "| 3 | 0.9833333333333333 | 0.9666666666666667 | 418 |\n",
        "| 4 | 0.9166666666666666 | 0.9333333333333333 | 261 |\n",
        "| 5 | 0.9833333333333333 | 0.9666666666666667 | 222 |\n",
        "| Average | 0.963333333333 | 0.94 | 280.6 | "
      ]
    },
    {
      "cell_type": "markdown",
      "metadata": {},
      "source": [
        "### 1.2 (10%) Early Stopping (Validation Set)\n",
        "\n",
        "- Do the same as above but his time with early stopping\n",
        "- Use a validation set taken from the training set for your stopping criteria. Using 10-15% of the training set for a validation set is common. You do this simply by setting the MLPClassifier early_stopping, validation_fraction, and n_iter_no_change parameters.\n",
        "- Run it a few times with different training/test splits and give average values for\n",
        "    - Number of iterations until convergence\n",
        "    - Training set accuracy\n",
        "    - Test set accuracy\n",
        "    - Best validation score (MLPClassifer attribute best_validation_score_)\n",
        "- For one run create a graph with validation set accuracy (*y*-axis) vs epochs (*x*-axis). Hint: MLPClassifer attribute validation_scores_\n",
        "\n",
        "Note: Due to the simplicity of and lack of noise in the iris data set you will not see the accuracy improvements that early stopping or loss regularization can give for more complex noisy datasets.  In particular, early stopping will have lower than expected results because with a very small VS taken from a very small training set there is less data to train on and more variance with the VS score.  Thus, you will probably get lower accuracies for VS than normal training for this less typical case.  But at least you will get practice on using early stopping and loss regularization for future data sets."
      ]
    },
    {
      "cell_type": "code",
      "execution_count": null,
      "metadata": {},
      "outputs": [],
      "source": [
        "#Iris with early stopping and validation scores graph\n",
        "from sklearn.neural_network import MLPClassifier\n",
        "from sklearn.model_selection import train_test_split\n",
        "from sklearn.preprocessing import LabelEncoder\n",
        "from scipy.io import arff\n",
        "import pandas as pd\n",
        "import numpy as np\n",
        "import matplotlib.pyplot as plt\n",
        "\n",
        "# get data\n",
        "irisData = arff.loadarff('iris.arff')\n",
        "\n",
        "# put data into a data frame\n",
        "irisDataFrame = pd.DataFrame(irisData[0])\n",
        "# encode the targets to be 0, 1, 2\n",
        "irisLabelsEncoded = irisDataFrame.apply(LabelEncoder().fit_transform)\n",
        "\n",
        "# define the features\n",
        "X = irisLabelsEncoded[['sepallength', 'sepalwidth', 'petallength', 'petalwidth']]\n",
        "# define the target\n",
        "y = irisLabelsEncoded['class']\n",
        "\n",
        "# split data\n",
        "X_train, X_test, y_train, y_test = train_test_split(X, y, test_size=0.2, train_size=0.8)\n",
        "\n",
        "clf = MLPClassifier(early_stopping=True, validation_fraction=0.15, hidden_layer_sizes=[64], activation='logistic', solver='sgd', alpha=0, batch_size=1, learning_rate_init=0.01, shuffle=True, momentum=0, n_iter_no_change=50, max_iter=1000)\n",
        "\n",
        "# train model\n",
        "clf.fit(X_train, y_train)\n",
        "\n",
        "# output model info\n",
        "print('number of iterations: ', clf.n_iter_)\n",
        "print('training accuracy: ', clf.score(X_train, y_train))\n",
        "print('test accuracy', clf.score(X_test, y_test))\n",
        "print('best validation score: ', clf.best_validation_score_)\n",
        "\n",
        "\n",
        "# create a list of points for the line to pass through\n",
        "points = []\n",
        "for index in range(len(clf.validation_scores_)):\n",
        "    points.append([index, clf.validation_scores_[index]])\n",
        "\n",
        "data = np.array(points)\n",
        "\n",
        "# Create a plot of data\n",
        "plt.xlim(0,len(data))\n",
        "plt.ylim(0,1)\n",
        "plt.plot(data[:, 0], data[:, 1], linestyle='-', color='blue')\n",
        "\n",
        "# Plot the learned separator.  We just made up the slope and intercept for this example. You need to calculate \n",
        "# the correct slope and intercept using your learned weights and bias.\n",
        "plt.title('Validation Score Vs. Epoch')\n",
        "plt.xlabel('Epoch')\n",
        "plt.ylabel('Validation Score')\n",
        "plt.grid()\n",
        "plt.show()"
      ]
    },
    {
      "cell_type": "markdown",
      "metadata": {
        "id": "ZNMATZqjtlxs"
      },
      "source": [
        "| Trial | Number of Iterations | Training Score | Test Score | Best Validation Score |\n",
        "| --- | --- | --- | --- | --- |\n",
        "| 1 | 145 | 0.9583333333333334 | 0.9666666666666667 | 0.9444444444444444 |\n",
        "| 2 | 56 | 0.9666666666666667 | 0.9666666666666667 | 1.0 |\n",
        "| 3 | 55 | 0.9166666666666666 | 0.9666666666666667 | 1.0 |\n",
        "| 4 | 58 | 0.9833333333333333 | 0.8333333333333334 | 1.0 |\n",
        "| 5 | 52 | 0.95 | 1.0 | 1.0 |\n",
        "| Average | 73.2 | 0.955 | 0.94666666666667 | 0.98888888888889 |\n",
        "\n",
        "\n",
        "**Discussion:**  \n",
        "As you can see from the above charts, in this section I was applying early_stopping. As a result, the average number of epochs dropped from 280.6 to 73.2. Early stopping, when used correctly, can help avoid overfit by stopping the model when the validation score has not improved by a certain amount in n_iter_no_change. By stopping the model at this point, we prevent the model from training too intensely on the training data when it is not sufficiently improving. Early stopping ensures that when the model isn't improving, it ends so that the model better generalizes to unseen data.  \n",
        "\n",
        "As you can see from the example above, I have n_iter_no_change set to 50. That means that the model will end when a certain amount of change is not seen in 50 epochs. Looking at the graph \"Validaion Score vs. Epoch\" you can see that there is a huge improvement around epoch number 9, then, 50 iterations later, after this improvement has not been repeated, the model ends. This shows that early_stopping is acting as expected.  \n",
        "\n",
        "Finally, as expected, there is a general upward trend in accuracy as the number of epochs increases. This is expected because at the beginning, in the first couple epochs the model is essentially guessing at the output. However as time goes on, the model refines its weights and becomes more accurate. So, as expected, the average accuracy increases."
      ]
    },
    {
      "cell_type": "markdown",
      "metadata": {},
      "source": [
        "### 1.3 (10%) Loss Regularization\n",
        "\n",
        "- Do the same as in 1.1 but his time with loss regularization (Do not do early stopping)\n",
        "- Run it with different L2 regularization parameter values (alpha).  The default for alpha is .0001.  Try other values such as .1, .01, .001, .00001, etc. Make a table with each row including:\n",
        "    - The regularization parameter value\n",
        "    - Number of iterations until convergence\n",
        "    - Training set accuracy\n",
        "    - Test set accuracy\n",
        "    - Best loss value (MLPClassifer attribute best_loss_)\n",
        "- Which regularization value gave you the best results?\n",
        "- For your best regularization value do one run and create a graph with loss (*y*-axis) vs epochs (*x*-axis) for the training set (Hint: MLPClassifer attribute loss_curve_)"
      ]
    },
    {
      "cell_type": "code",
      "execution_count": 1,
      "metadata": {},
      "outputs": [
        {
          "name": "stdout",
          "output_type": "stream",
          "text": [
            "alpha:  0.1\n",
            "average number of iterations:  251.8\n",
            "average training score:  0.9408333333333335\n",
            "average test score 0.9666666666666668\n",
            "average best loss:  0.5217660182449364\n",
            "alpha:  0.01\n",
            "average number of iterations:  243.8\n",
            "average training score:  0.9691666666666666\n",
            "average test score 0.95\n",
            "average best loss:  0.2180915959620291\n",
            "alpha:  0.001\n",
            "average number of iterations:  208.5\n",
            "average training score:  0.97\n",
            "average test score 0.9533333333333335\n",
            "average best loss:  0.11704652194947296\n",
            "alpha:  0.0001\n",
            "average number of iterations:  267.2\n",
            "average training score:  0.9558333333333332\n",
            "average test score 0.9633333333333335\n",
            "average best loss:  0.07805119912810851\n",
            "alpha:  1e-05\n",
            "average number of iterations:  232.4\n",
            "average training score:  0.9683333333333334\n",
            "average test score 0.9533333333333334\n",
            "average best loss:  0.0875180942707284\n",
            "alpha:  1e-06\n",
            "average number of iterations:  257.4\n",
            "average training score:  0.9599999999999997\n",
            "average test score 0.95\n",
            "average best loss:  0.07967080304685359\n"
          ]
        }
      ],
      "source": [
        "#Iris with Loss Regularization \n",
        "\n",
        "from sklearn.model_selection import train_test_split\n",
        "from sklearn.preprocessing import LabelEncoder\n",
        "from scipy.io import arff\n",
        "from sklearn.neural_network import MLPClassifier\n",
        "import pandas as pd\n",
        "\n",
        "# get data\n",
        "irisData = arff.loadarff('iris.arff')\n",
        "\n",
        "# put data into a data frame\n",
        "irisDataFrame = pd.DataFrame(irisData[0])\n",
        "# encode the targets to be 0, 1, 2\n",
        "irisLabelsEncoded = irisDataFrame.apply(LabelEncoder().fit_transform)\n",
        "\n",
        "# define the features\n",
        "X = irisLabelsEncoded[['sepallength', 'sepalwidth', 'petallength', 'petalwidth']]\n",
        "# define the target\n",
        "y = irisLabelsEncoded['class']\n",
        "\n",
        "# split data\n",
        "X_train, X_test, y_train, y_test = train_test_split(X, y, test_size=0.2, train_size=0.8)\n",
        "\n",
        "alphaValues = [0.1, 0.01, 0.001, 0.0001, 0.00001, 0.000001]\n",
        "for alpha in alphaValues:\n",
        "\n",
        "    numOfIterations = []\n",
        "    trainingScore = []\n",
        "    testScore = []\n",
        "    bestLosses = []\n",
        "\n",
        "    for run in range(10):\n",
        "        clf = MLPClassifier(hidden_layer_sizes=[64], activation='logistic', solver='sgd', alpha=alpha, batch_size=1, learning_rate_init=0.01, shuffle=True, momentum=0, n_iter_no_change=50, max_iter=1000)\n",
        "\n",
        "        # train model\n",
        "        clf.fit(X_train, y_train)\n",
        "\n",
        "        numOfIterations.append(clf.n_iter_)\n",
        "        trainingScore.append(clf.score(X_train, y_train))\n",
        "        testScore.append(clf.score(X_test, y_test))\n",
        "        bestLosses.append(clf.best_loss_)\n",
        "\n",
        "    # output model info\n",
        "    print('alpha: ', alpha)\n",
        "    print('average number of iterations: ', sum(numOfIterations)/len(numOfIterations))\n",
        "    print('average training score: ', sum(trainingScore)/len(trainingScore))\n",
        "    print('average test score', sum(testScore)/len(testScore))\n",
        "    print('average best loss: ', sum(bestLosses)/len(bestLosses))\n"
      ]
    },
    {
      "cell_type": "markdown",
      "metadata": {},
      "source": [
        "*Discussion and comparison between no regularization, early stopping, and loss regularization*  \n",
        "\n",
        "**Discussion:**  \n",
        "| Alpha Value | Average Number of Iterations | Average Training Set Accuracy | Average Test Set Accuracy | Average Best Loss Value |\n",
        "| --- | --- | --- | --- | --- |\n",
        "| 0.1 | 251.8 | 0.9408333333333335 | 0.9666666666666668 | 0.5217660182449364 |\n",
        "| 0.01 | 243.8 | 0.9691666666666666 | 0.95 | 0.2180915959620291 |\n",
        "| 0.001 | 208.5 | 0.97 | 0.9533333333333335 | 0.11704652194947296 |\n",
        "| 0.0001 | 267.2 | 0.9558333333333332 | 0.9633333333333335 | 0.07805119912810851 |\n",
        "| 0.00001 | 232.4 | 0.9683333333333334 | 0.9533333333333334 | 0.0875180942707284 |\n",
        "| 0.000001 | 257.4 | 0.9599999999999997 | 0.95 | 0.07967080304685359 |  \n",
        "\n",
        "The above chart displays the average value value for number of iterations, training set accuracy, test set accuracy, and best loss value for 6 alpha values at 10 runs for each alpha value (0.1, 0.01, 0.001, 0.0001, 0.00001, 0.000001). I decided to use averages because it is difficult to determine which alpha value provides the best results from a single run. With all runs completed and averaged, it looks like I got the best results when alpha equals 0.0001. Interestingly, this is also the default value for alpha, which I guess makes sense, that is probably why it was chosen as the default.\n",
        "\n",
        "Comparing my results for loss regularization to no regularization, they are pretty much the same when alpha = 0.0001. This makes sense because in section 1.1 alpha is also equal to 0.0001. That being said however, my accuracy with loss regularization is better and my number of iterations is the same. Futher, when comparing these results to the results I obtained with early stopping, you notive there are several differences. First, as expected the number of epochs are significantly higher with loss regularization than with early stopping. Where early stopping had an average number of epoch of 73.2, with loss regularization the average numer of epochs was about 250. This makes sense because loss regularization doesn't limit the number of epochs, instead it focuses on minimizing loss.  \n",
        "\n",
        "Regularization (both with loss and early stopping) are meathods to prevent overfitting and help the model fit a more general dataset by stopping he model when it has sufficiently learned the dataset, but not so much that it doesn't generalize well.  \n",
        "\n",
        "In this process I also learned about the significance of alpha and the best loss value. Alpha is a constant which the penalty function is multiplied by. A low alpha value will punish error less harshly, but potentially allow overfitting because the weights are not being regularized. On the other hand too large of an alpha value can lead to underfitting becuase weights are punished heavily when error occurs and weights are made more even.\n"
      ]
    },
    {
      "cell_type": "markdown",
      "metadata": {
        "id": "mOteTlV6S0bq"
      },
      "source": [
        "## 2 Hyperparameters \n",
        "In this section we use the [Vowel Dataset](https://raw.githubusercontent.com/cs472ta/CS472/master/datasets/vowel.arff) to consider the hyperparameters of learning rate, number of hidden nodes, and momentum. \n",
        "\n",
        "### 2.1 (10%) Vowel Dataset Questions\n",
        "- Give the baseline accuracies for the Iris and Vowel datasets. Baseline accuracy is what you would get if the model just outputs the majority class of the data set (i.e. the output value which occurs most often). These two data sets are not great example for this as they have an equal amount of each class, which is not typical.\n",
        "- Discuss why the vowel data set will probably have lower accuracy than Iris.\n",
        "- Consider which of the vowel dataset's input features you should not use in training and discuss why."
      ]
    },
    {
      "cell_type": "markdown",
      "metadata": {
        "id": "qmq9GSbJS8k2"
      },
      "source": [
        "*Discuss these items here*"
      ]
    },
    {
      "cell_type": "markdown",
      "metadata": {
        "id": "SIRG42TgSR4x"
      },
      "source": [
        "### 2.2 (10%) Learning Rate\n",
        "Load the [Vowel Dataset](https://raw.githubusercontent.com/cs472ta/CS472/master/datasets/vowel.arff). Drop any features which you explained above as being inappropriate for training.\n",
        "\n",
        "Hints: Consider the Pandas drop method for dropping columns. When you want to transform features in your data set there are lots of approaches. You could edit the arff file directly, or make the transforms in your code.  The Pandas replace method is nice for that. For example, if you wanted to change the vowel data set gender feature in a Pandas dataframe to 0/1 you could do the following:\n",
        "\n",
        "vowel_df['Sex'] = vowel_df['Sex'].str.decode('utf-8')   //Changes the byte code data into a normal string, b'Male' becomes \"Male\"\\\n",
        "vowel_df = vowel_df.replace('Male', 0)\\\n",
        "vowel_df = vowel_df.replace('Female', 1)\n",
        "\n",
        "- Use one layer of hidden nodes with the number of hidden nodes being twice the number of inputs.\n",
        "- Use a random 75/25 split of the data for the training/test set.\n",
        "- Do not use early stopping.\n",
        "- Try at least 5 different learning rates (LR) from very small (e.g. .001) to pretty big (e.g. 10). Each LR will require a different number of epochs to learn. LR effects both accuracy and time required for learning.\n",
        "- Create a table which includes a row for each LR.  Your table columns should be LR, # epochs to learn the model, final training set accuracy and final test set accuracy.  As learning rates get smaller, it usually takes more epochs to learn. If your model is stopping learning too soon (converging) by hitting max_iterations (in this case and in experiments below), then you need to increase your max_iterations parameter in order to give your model more learning time.  To keep things faster, you don't need to increase max_iter past 1000 if you don't want to, but point out when more iterations may have given improvement.\n",
        "\n",
        "In real testing one averages the results of multiple trials per LR (and other parameters) with different intitial conditions (training/test split, initial weights, etc.). That gives more accurate results but is not required for this lab."
      ]
    },
    {
      "cell_type": "code",
      "execution_count": null,
      "metadata": {
        "id": "KBGUn43ASiXW"
      },
      "outputs": [],
      "source": [
        "# Train with different learning rates"
      ]
    },
    {
      "cell_type": "markdown",
      "metadata": {
        "id": "xpjJBIwktlxt"
      },
      "source": [
        "*Discuss your table and the effect of different learning rates on both training time and accuracy*"
      ]
    },
    {
      "cell_type": "markdown",
      "metadata": {
        "id": "A-nUu5Txtlxt"
      },
      "source": [
        "### 2.3 (10%) Number of Hidden Nodes\n",
        "\n",
        "Using the best LR you discovered, experiment with different numbers of hidden nodes.\n",
        "\n",
        "- Start with 1 hidden node, then 2, and then double them for each test until you get no more improvement in accuracy. \n",
        "- Create a table just like above, except with # of hidden nodes rather than LR.\n",
        "\n",
        "In general, whenever you are testing a parameter such as # of hidden nodes, keep testing values until no more improvement is found. For example, if 20 hidden nodes did better than 10, you would not stop at 20, but would try 40, etc., until you no longer got improvement."
      ]
    },
    {
      "cell_type": "code",
      "execution_count": null,
      "metadata": {
        "id": "uLqeA1iutlxt"
      },
      "outputs": [],
      "source": [
        "# Train with different numbers of hidden nodes"
      ]
    },
    {
      "cell_type": "markdown",
      "metadata": {
        "id": "CLliSMtXtlxt"
      },
      "source": [
        "*Discuss your table and the effect of different numbers of hidden nodes on both training time and accuracy*"
      ]
    },
    {
      "cell_type": "markdown",
      "metadata": {
        "id": "v72ryeHXtlxu"
      },
      "source": [
        "### 2.4 (10%) Momentum\n",
        "\n",
        "Try at least 5 different momentum terms between 0 and just less than 1 using the best number of hidden nodes and LR from your earlier experiments.\n",
        "\n",
        "- Create a table just like above, except with momentum values rather than LR or number of hidden nodes."
      ]
    },
    {
      "cell_type": "code",
      "execution_count": null,
      "metadata": {
        "id": "yiEBTL6Vtlxu"
      },
      "outputs": [],
      "source": [
        "# Train with different momentum values"
      ]
    },
    {
      "cell_type": "markdown",
      "metadata": {
        "id": "LqidhekCtlxu"
      },
      "source": [
        "*Discuss your table and the effect of momentum on both training time and accuracy*"
      ]
    },
    {
      "cell_type": "markdown",
      "metadata": {
        "id": "7hHxNgUCtlxv"
      },
      "source": [
        "### 2.5 (10%) Automatic Hyperparameter Discovery\n",
        "Using the vowel dataset, automatically adjust the LR, # of hidden nodes, and momentum using [grid and random search](https://scikit-learn.org/stable/modules/grid_search.html) \n",
        "- For grid search include the most promising hyperparameter values you used in your experiments above.  You may add others also.\n",
        "- Be patient as the grid search can take a while since it has to train all combinations of models. Don't use too many parameter options or it will be too slow.\n",
        "- Report your best hyperparameters and accuracy.  Unfortunately, you will not always get as high a score as you might expect.  This is in part due to the simplicity of the dataset.  It also teaches that in gerneral you should not blindly assume that a tool will get you the results you expect, and that you may need to consider multiple approaches."
      ]
    },
    {
      "cell_type": "code",
      "execution_count": null,
      "metadata": {},
      "outputs": [],
      "source": [
        "#Grid search for hyperparameters.\n",
        "#Here is one variation of code you could use for your grid search. You can try your own variation if you prefer.\n",
        "\n",
        "from sklearn.model_selection import GridSearchCV\n",
        "clf = MLPClassifier(activation='logistic', solver='sgd',alpha=0,early_stopping=True, n_iter_no_change=10, batch_size=1)\n",
        "parameters = {'learning_rate_init':( .001, ?, ....), #You have to fill in the rest of your values for these lists\n",
        "              'hidden_layer_sizes': ([8], [?], ...),\n",
        "              'momentum':(0, ?, ...)\n",
        "grid = GridSearchCV(clf, parameters)\n",
        "grid.fit(X,Y)    #This takes a while to run\n",
        "print(grid.best_params_)\n",
        "print(grid.best_score_)"
      ]
    },
    {
      "cell_type": "code",
      "execution_count": null,
      "metadata": {},
      "outputs": [],
      "source": [
        "#Randomized search for hyperparameters\n",
        "#Here is one variation of code you could use for your randomized search.\n",
        "\n",
        "from sklearn.model_selection import RandomizedSearchCV\n",
        "from scipy.stats import uniform\n",
        "clf = MLPClassifier(activation='logistic', solver='sgd',alpha=0,early_stopping=True, n_iter_no_change=10, batch_size=1)\n",
        "distributions = dict(learning_rate_init=uniform(loc=?, scale=?), #loc is the min val, and loc + scale is the max val\n",
        "                    hidden_layer_sizes = ([8], [?], ...), #since there is no distribution it samples these values uniformly\n",
        "                    momentum=uniform(loc=0,scale =.99))\n",
        "search = RandomizedSearchCV(clf, distributions, n_iter=10)\n",
        "search.fit(X,Y)\n",
        "print(search.best_params_)\n",
        "print(search.best_score_)"
      ]
    },
    {
      "cell_type": "markdown",
      "metadata": {
        "id": "BqSFAXwlk3Ms"
      },
      "source": [
        "*Discussion and comparison of grid and randomized parameter search*"
      ]
    },
    {
      "cell_type": "markdown",
      "metadata": {
        "id": "lIM0rEA9tlxu"
      },
      "source": [
        "## 3 Regression with MLPs\n",
        "\n",
        "### 3.1 (10%) - Learn a regression data set of your choice\n",
        "\n",
        "Train MLP on any real world data set that requires regression (i.e. has a real valued ouput) and discuss your effort and results.  While the [Irvine ML Repository](https://archive.ics.uci.edu) is a great resource, also onsider [Kaggle](https://www.kaggle.com) and [OpenML](https://openml.org) as other great places to find datasets.\n",
        "- Use [MLPRegressor](https://scikit-learn.org/stable/modules/generated/sklearn.neural_network.MLPRegressor.html#sklearn.neural_network.MLPRegressor) rather than MLPclassifier.  It has almost the exact same setup as MLPClassier except it uses the linear activation function for the output nodes and SSE as the loss function.  MLPClassier uses softmax activation for the output nodes and cross-entropy for the loss function.\n",
        "- Use any reasonable hyperparameters that you want.  \n",
        "- You will probably need to normalize input features.\n",
        "- It is not typically necessary to normalize the output.\n",
        "- Split into train and test and report the training and test set MAEs (Mean Absolute Error). For regression problems where we don't normalize the output, MAE is an intuitive measure as it shows exactly how much our output is off on average."
      ]
    },
    {
      "cell_type": "code",
      "execution_count": null,
      "metadata": {
        "id": "OFQv70W2VyqJ"
      },
      "outputs": [],
      "source": [
        "# Load and Learn a real world regression data set\n",
        "# To calculate MAE you could do a variation of the following\n",
        "\n",
        "from sklearn.metrics import mean_absolute_error\n",
        "print(mean_absolute_error(clf.predict(X_test), y_test))"
      ]
    },
    {
      "cell_type": "markdown",
      "metadata": {},
      "source": [
        "*Discussion*"
      ]
    },
    {
      "cell_type": "markdown",
      "metadata": {},
      "source": [
        "### 3.2 (10%) - Other MLP Hyperparameters \n",
        "With the same data set, you may (not required) experiment with some of the hyperparameters you already did above (LR, hidden nodes, momentum, validation set parameters, regularization).  But for sure experiment with and discuss the results of the first two hyperparameters below (activation functions and multiple hidden layers).  We encourage you to experiment briefly with the others but they are not required. \n",
        "\n",
        "- different hidden layer activation functions (tanh, relu in addition to logistic) - Note that Sklean does not currently let you choose the output layer activation function.  It is automatically softmax for classification and linear for regression.\n",
        "- more than one hidden layer\n",
        "- solver - try adam and lbfgs in addition to sgd\n",
        "- batch size\n",
        "- learning rate adaptation - this is the schedule parameter which lets LR adapt during learning"
      ]
    },
    {
      "cell_type": "code",
      "execution_count": null,
      "metadata": {
        "id": "Hu1JE4vStlxv"
      },
      "outputs": [],
      "source": [
        "# Run with different hyperparameters"
      ]
    },
    {
      "cell_type": "markdown",
      "metadata": {
        "id": "HScVQasltlxv"
      },
      "source": [
        "*Discussion*"
      ]
    },
    {
      "cell_type": "markdown",
      "metadata": {
        "id": "cTlK-kijk8Mg"
      },
      "source": [
        "## 4. (Optional 20% extra credit) Code up your own MLP/Backprop learner \n",
        "Below is a scaffold you could use if you want. Requirements for this task:\n",
        "- Your model should support the methods shown in the example scaffold below.\n",
        "- Ability to create a network structure with at least one hidden layer and an arbitrary number of nodes. You may choose just one non-linear activation function for all hidden and output nodes if you want (e.g. sigmoid activation function where the loss is SSE rather than cross-entropy).\n",
        "- Random weight initialization with small random weights with 0 mean. Remember that every hidden and output node should have its own bias weight.\n",
        "- Use stochastic training updates: update weights after each training instance (i.e. not batch)\n",
        "- Option to include a momentum term\n",
        "- Your class can inherit from the relevant scikit-learn learners (e.g. data shuffling, etc.), but don't call any of the super methods to accomplish the core methods in the scaffold.\n",
        "- Run the Iris data set above with your Backprop version. Show and discuss your results and how they compare with the sklearn version.\n",
        "- Coding MLP is a good experience but is a little more challening than implementing other models so the extra credit points are higher than typical."
      ]
    },
    {
      "cell_type": "markdown",
      "metadata": {
        "id": "rokMDC3Qtlxv"
      },
      "source": [
        "*Discuss your results and any differences*"
      ]
    },
    {
      "cell_type": "code",
      "execution_count": null,
      "metadata": {
        "id": "hn8n_iR8tlxv"
      },
      "outputs": [],
      "source": [
        "from sklearn.base import BaseEstimator, ClassifierMixin\n",
        "\n",
        "class MLP(BaseEstimator,ClassifierMixin):\n",
        "\n",
        "    def __init__(self,lr=.1, momentum=0, shuffle=True,hidden_layer_widths=None):\n",
        "        \"\"\" Initialize class with chosen hyperparameters.\n",
        "\n",
        "        Args:\n",
        "            lr (float): A learning rate / step size.\n",
        "            shuffle(boolean): Whether to shuffle the training data each epoch. DO NOT SHUFFLE for evaluation / debug datasets.\n",
        "            momentum(float): The momentum coefficent \n",
        "        Optional Args (Args we think will make your life easier):\n",
        "            hidden_layer_widths (list(int)): A list of integers which defines the width of each hidden layer if hidden layer is none do twice as many hidden nodes as input nodes. (and then one more for the bias node)\n",
        "            For example: input width 1, then hidden layer will be 3 nodes\n",
        "        Example:\n",
        "            mlp = MLP(lr=.2,momentum=.5,shuffle=False,hidden_layer_widths = [3,3]),  <--- this will create a model with two hidden layers, both 3 nodes wide\n",
        "        \"\"\"\n",
        "        self.hidden_layer_widths\n",
        "        self.lr = lr\n",
        "        self.momentum = momentum\n",
        "        self.shuffle = shuffle\n",
        "\n",
        "\n",
        "    def fit(self, X, y, initial_weights=None):\n",
        "        \"\"\" Fit the data; run the algorithm and adjust the weights to find a good solution\n",
        "\n",
        "        Args:\n",
        "            X (array-like): A 2D numpy array with the training data, excluding targets\n",
        "            y (array-like): A 2D numpy array with the training targets\n",
        "        Optional Args (Args we think will make your life easier):\n",
        "            initial_weights (array-like): allows the user to provide initial weights\n",
        "        Returns:\n",
        "            self: this allows this to be chained, e.g. model.fit(X,y).predict(X_test)\n",
        "\n",
        "        \"\"\"\n",
        "        self.weights = self.initialize_weights() if not initial_weights else initial_weights\n",
        "\n",
        "        return self\n",
        "\n",
        "    def predict(self, X):\n",
        "        \"\"\" Predict all classes for a dataset X\n",
        "        Args:\n",
        "            X (array-like): A 2D numpy array with the training data, excluding targets\n",
        "        Returns:\n",
        "            array, shape (n_samples,)\n",
        "                Predicted target values per element in X.\n",
        "        \"\"\"\n",
        "        pass\n",
        "\n",
        "    def initialize_weights(self):\n",
        "        \"\"\" Initialize weights for perceptron. Don't forget the bias!\n",
        "\n",
        "        Returns:\n",
        "\n",
        "        \"\"\"\n",
        "\n",
        "        return [0]\n",
        "\n",
        "    def score(self, X, y):\n",
        "        \"\"\" Return accuracy of model on a given dataset. Must implement own score function.\n",
        "\n",
        "        Args:\n",
        "            X (array-like): A 2D numpy array with data, excluding targets\n",
        "            y (array-like): A 2D numpy array with targets\n",
        "\n",
        "        Returns:\n",
        "            score : float\n",
        "                Mean accuracy of self.predict(X) wrt. y.\n",
        "        \"\"\"\n",
        "\n",
        "        return 0\n",
        "\n",
        "    ###  Returns the weights. Not required but helpful for debugging\n",
        "    def get_weights(self):\n",
        "        pass\n"
      ]
    }
  ],
  "metadata": {
    "colab": {
      "collapsed_sections": [],
      "provenance": []
    },
    "kernelspec": {
      "display_name": "Python 3",
      "language": "python",
      "name": "python3"
    },
    "language_info": {
      "codemirror_mode": {
        "name": "ipython",
        "version": 3
      },
      "file_extension": ".py",
      "mimetype": "text/x-python",
      "name": "python",
      "nbconvert_exporter": "python",
      "pygments_lexer": "ipython3",
      "version": "3.11.1"
    }
  },
  "nbformat": 4,
  "nbformat_minor": 0
}
