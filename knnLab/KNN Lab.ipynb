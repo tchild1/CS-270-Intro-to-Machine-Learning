{
 "cells": [
  {
   "cell_type": "markdown",
   "metadata": {
    "id": "DVL7_bgmIAPR"
   },
   "source": [
    "# K-Nearest Neighbor Lab\n",
    "Read over the sklearn info on [nearest neighbor learners](https://scikit-learn.org/stable/modules/neighbors.html#nearest-neighbors-classification)\n",
    "\n",
    "\n"
   ]
  },
  {
   "cell_type": "code",
   "execution_count": 6,
   "metadata": {
    "id": "6ZbYjZZZ_yLV"
   },
   "outputs": [],
   "source": [
    "from sklearn.neighbors import KNeighborsClassifier, KNeighborsRegressor\n",
    "import numpy as np\n",
    "import pandas as pd\n",
    "from scipy.io import arff\n",
    "import matplotlib.pyplot as plt\n",
    "from sklearn.model_selection import train_test_split"
   ]
  },
  {
   "cell_type": "markdown",
   "metadata": {},
   "source": [
    "## 1 K-Nearest Neighbor (KNN) algorithm\n",
    "\n",
    "### 1.1 (15%) Basic KNN Classification\n",
    "\n",
    "Learn the [Glass data set](https://archive.ics.uci.edu/dataset/42/glass+identification) using [KNeighborsClassifier](https://scikit-learn.org/stable/modules/generated/sklearn.neighbors.KNeighborsClassifier.html#sklearn.neighbors.KNeighborsClassifier) with default parameters.\n",
    "- Randomly split your data into train/test.  Anytime we don't tell you specifics (such as what percentage is train vs test) choose your own reasonable values\n",
    "- Give typical train and test set accuracies after running with different random splits\n",
    "- Print the output probabilities for a test set (predict_proba)\n",
    "- Try it with different p values (Minkowskian exponent) and discuss any differences"
   ]
  },
  {
   "cell_type": "code",
   "execution_count": null,
   "metadata": {},
   "outputs": [
    {
     "name": "stderr",
     "output_type": "stream",
     "text": [
      "C:\\Users\\child\\AppData\\Roaming\\Python\\Python312\\site-packages\\sklearn\\neighbors\\_classification.py:238: DataConversionWarning: A column-vector y was passed when a 1d array was expected. Please change the shape of y to (n_samples,), for example using ravel().\n",
      "  return self._fit(X, y)\n",
      "C:\\Users\\child\\AppData\\Roaming\\Python\\Python312\\site-packages\\sklearn\\neighbors\\_classification.py:238: DataConversionWarning: A column-vector y was passed when a 1d array was expected. Please change the shape of y to (n_samples,), for example using ravel().\n",
      "  return self._fit(X, y)\n",
      "C:\\Users\\child\\AppData\\Roaming\\Python\\Python312\\site-packages\\sklearn\\neighbors\\_classification.py:238: DataConversionWarning: A column-vector y was passed when a 1d array was expected. Please change the shape of y to (n_samples,), for example using ravel().\n",
      "  return self._fit(X, y)\n",
      "C:\\Users\\child\\AppData\\Roaming\\Python\\Python312\\site-packages\\sklearn\\neighbors\\_classification.py:238: DataConversionWarning: A column-vector y was passed when a 1d array was expected. Please change the shape of y to (n_samples,), for example using ravel().\n",
      "  return self._fit(X, y)\n",
      "C:\\Users\\child\\AppData\\Roaming\\Python\\Python312\\site-packages\\sklearn\\neighbors\\_classification.py:238: DataConversionWarning: A column-vector y was passed when a 1d array was expected. Please change the shape of y to (n_samples,), for example using ravel().\n",
      "  return self._fit(X, y)\n",
      "C:\\Users\\child\\AppData\\Roaming\\Python\\Python312\\site-packages\\sklearn\\neighbors\\_classification.py:238: DataConversionWarning: A column-vector y was passed when a 1d array was expected. Please change the shape of y to (n_samples,), for example using ravel().\n",
      "  return self._fit(X, y)\n",
      "C:\\Users\\child\\AppData\\Roaming\\Python\\Python312\\site-packages\\sklearn\\neighbors\\_classification.py:238: DataConversionWarning: A column-vector y was passed when a 1d array was expected. Please change the shape of y to (n_samples,), for example using ravel().\n",
      "  return self._fit(X, y)\n",
      "C:\\Users\\child\\AppData\\Roaming\\Python\\Python312\\site-packages\\sklearn\\neighbors\\_classification.py:238: DataConversionWarning: A column-vector y was passed when a 1d array was expected. Please change the shape of y to (n_samples,), for example using ravel().\n",
      "  return self._fit(X, y)\n",
      "C:\\Users\\child\\AppData\\Roaming\\Python\\Python312\\site-packages\\sklearn\\neighbors\\_classification.py:238: DataConversionWarning: A column-vector y was passed when a 1d array was expected. Please change the shape of y to (n_samples,), for example using ravel().\n",
      "  return self._fit(X, y)\n",
      "C:\\Users\\child\\AppData\\Roaming\\Python\\Python312\\site-packages\\sklearn\\neighbors\\_classification.py:238: DataConversionWarning: A column-vector y was passed when a 1d array was expected. Please change the shape of y to (n_samples,), for example using ravel().\n",
      "  return self._fit(X, y)\n"
     ]
    },
    {
     "name": "stdout",
     "output_type": "stream",
     "text": [
      "average training score accuacy (train/test split (0.2, 0.8)): 0.7631578947368421\n",
      "average test score accuracy (train/test split (0.2, 0.8)): 0.6534883720930232\n"
     ]
    },
    {
     "name": "stderr",
     "output_type": "stream",
     "text": [
      "C:\\Users\\child\\AppData\\Roaming\\Python\\Python312\\site-packages\\sklearn\\neighbors\\_classification.py:238: DataConversionWarning: A column-vector y was passed when a 1d array was expected. Please change the shape of y to (n_samples,), for example using ravel().\n",
      "  return self._fit(X, y)\n",
      "C:\\Users\\child\\AppData\\Roaming\\Python\\Python312\\site-packages\\sklearn\\neighbors\\_classification.py:238: DataConversionWarning: A column-vector y was passed when a 1d array was expected. Please change the shape of y to (n_samples,), for example using ravel().\n",
      "  return self._fit(X, y)\n",
      "C:\\Users\\child\\AppData\\Roaming\\Python\\Python312\\site-packages\\sklearn\\neighbors\\_classification.py:238: DataConversionWarning: A column-vector y was passed when a 1d array was expected. Please change the shape of y to (n_samples,), for example using ravel().\n",
      "  return self._fit(X, y)\n",
      "C:\\Users\\child\\AppData\\Roaming\\Python\\Python312\\site-packages\\sklearn\\neighbors\\_classification.py:238: DataConversionWarning: A column-vector y was passed when a 1d array was expected. Please change the shape of y to (n_samples,), for example using ravel().\n",
      "  return self._fit(X, y)\n",
      "C:\\Users\\child\\AppData\\Roaming\\Python\\Python312\\site-packages\\sklearn\\neighbors\\_classification.py:238: DataConversionWarning: A column-vector y was passed when a 1d array was expected. Please change the shape of y to (n_samples,), for example using ravel().\n",
      "  return self._fit(X, y)\n",
      "C:\\Users\\child\\AppData\\Roaming\\Python\\Python312\\site-packages\\sklearn\\neighbors\\_classification.py:238: DataConversionWarning: A column-vector y was passed when a 1d array was expected. Please change the shape of y to (n_samples,), for example using ravel().\n",
      "  return self._fit(X, y)\n",
      "C:\\Users\\child\\AppData\\Roaming\\Python\\Python312\\site-packages\\sklearn\\neighbors\\_classification.py:238: DataConversionWarning: A column-vector y was passed when a 1d array was expected. Please change the shape of y to (n_samples,), for example using ravel().\n",
      "  return self._fit(X, y)\n",
      "C:\\Users\\child\\AppData\\Roaming\\Python\\Python312\\site-packages\\sklearn\\neighbors\\_classification.py:238: DataConversionWarning: A column-vector y was passed when a 1d array was expected. Please change the shape of y to (n_samples,), for example using ravel().\n",
      "  return self._fit(X, y)\n",
      "C:\\Users\\child\\AppData\\Roaming\\Python\\Python312\\site-packages\\sklearn\\neighbors\\_classification.py:238: DataConversionWarning: A column-vector y was passed when a 1d array was expected. Please change the shape of y to (n_samples,), for example using ravel().\n",
      "  return self._fit(X, y)\n",
      "C:\\Users\\child\\AppData\\Roaming\\Python\\Python312\\site-packages\\sklearn\\neighbors\\_classification.py:238: DataConversionWarning: A column-vector y was passed when a 1d array was expected. Please change the shape of y to (n_samples,), for example using ravel().\n",
      "  return self._fit(X, y)\n",
      "C:\\Users\\child\\AppData\\Roaming\\Python\\Python312\\site-packages\\sklearn\\neighbors\\_classification.py:238: DataConversionWarning: A column-vector y was passed when a 1d array was expected. Please change the shape of y to (n_samples,), for example using ravel().\n",
      "  return self._fit(X, y)\n",
      "C:\\Users\\child\\AppData\\Roaming\\Python\\Python312\\site-packages\\sklearn\\neighbors\\_classification.py:238: DataConversionWarning: A column-vector y was passed when a 1d array was expected. Please change the shape of y to (n_samples,), for example using ravel().\n",
      "  return self._fit(X, y)\n"
     ]
    },
    {
     "name": "stdout",
     "output_type": "stream",
     "text": [
      "average training score accuacy (train/test split (0.3, 0.7)): 0.7657718120805369\n",
      "average test score accuracy (train/test split (0.3, 0.7)): 0.6415384615384616\n"
     ]
    },
    {
     "name": "stderr",
     "output_type": "stream",
     "text": [
      "C:\\Users\\child\\AppData\\Roaming\\Python\\Python312\\site-packages\\sklearn\\neighbors\\_classification.py:238: DataConversionWarning: A column-vector y was passed when a 1d array was expected. Please change the shape of y to (n_samples,), for example using ravel().\n",
      "  return self._fit(X, y)\n",
      "C:\\Users\\child\\AppData\\Roaming\\Python\\Python312\\site-packages\\sklearn\\neighbors\\_classification.py:238: DataConversionWarning: A column-vector y was passed when a 1d array was expected. Please change the shape of y to (n_samples,), for example using ravel().\n",
      "  return self._fit(X, y)\n",
      "C:\\Users\\child\\AppData\\Roaming\\Python\\Python312\\site-packages\\sklearn\\neighbors\\_classification.py:238: DataConversionWarning: A column-vector y was passed when a 1d array was expected. Please change the shape of y to (n_samples,), for example using ravel().\n",
      "  return self._fit(X, y)\n",
      "C:\\Users\\child\\AppData\\Roaming\\Python\\Python312\\site-packages\\sklearn\\neighbors\\_classification.py:238: DataConversionWarning: A column-vector y was passed when a 1d array was expected. Please change the shape of y to (n_samples,), for example using ravel().\n",
      "  return self._fit(X, y)\n",
      "C:\\Users\\child\\AppData\\Roaming\\Python\\Python312\\site-packages\\sklearn\\neighbors\\_classification.py:238: DataConversionWarning: A column-vector y was passed when a 1d array was expected. Please change the shape of y to (n_samples,), for example using ravel().\n",
      "  return self._fit(X, y)\n",
      "C:\\Users\\child\\AppData\\Roaming\\Python\\Python312\\site-packages\\sklearn\\neighbors\\_classification.py:238: DataConversionWarning: A column-vector y was passed when a 1d array was expected. Please change the shape of y to (n_samples,), for example using ravel().\n",
      "  return self._fit(X, y)\n"
     ]
    },
    {
     "name": "stdout",
     "output_type": "stream",
     "text": [
      "average training score accuacy (train/test split (0.4, 0.6)): 0.75\n",
      "average test score accuracy (train/test split (0.4, 0.6)): 0.6267441860465116\n"
     ]
    },
    {
     "name": "stderr",
     "output_type": "stream",
     "text": [
      "C:\\Users\\child\\AppData\\Roaming\\Python\\Python312\\site-packages\\sklearn\\neighbors\\_classification.py:238: DataConversionWarning: A column-vector y was passed when a 1d array was expected. Please change the shape of y to (n_samples,), for example using ravel().\n",
      "  return self._fit(X, y)\n",
      "C:\\Users\\child\\AppData\\Roaming\\Python\\Python312\\site-packages\\sklearn\\neighbors\\_classification.py:238: DataConversionWarning: A column-vector y was passed when a 1d array was expected. Please change the shape of y to (n_samples,), for example using ravel().\n",
      "  return self._fit(X, y)\n"
     ]
    }
   ],
   "source": [
    "# Learn the glass data\n",
    "from ucimlrepo import fetch_ucirepo \n",
    "from sklearn.neighbors import KNeighborsClassifier\n",
    "from sklearn.model_selection import train_test_split\n",
    "  \n",
    "# fetch dataset \n",
    "glass_identification = fetch_ucirepo(id=42) \n",
    "  \n",
    "# data (as pandas dataframes) \n",
    "X = glass_identification.data.features \n",
    "y = glass_identification.data.targets \n",
    "\n",
    "\n",
    "trainTestSplits = [(0.2, 0.8), (0.3, 0.7), (0.4, 0.6)]\n",
    "\n",
    "for split in trainTestSplits:\n",
    "\n",
    "    trainingScores = []\n",
    "    testScores = []\n",
    "    for i in range(10):\n",
    "        X_train, X_test, y_train, y_test = train_test_split(X, y, test_size=split[0], train_size=split[1])\n",
    "\n",
    "        classifier = KNeighborsClassifier()\n",
    "        classifier.fit(X_train, y_train)\n",
    "\n",
    "        testScores.append(classifier.score(X_test, y_test))\n",
    "        trainingScores.append(classifier.score(X_train, y_train))\n",
    "\n",
    "    print(f'average training score accuacy (train/test split {split}):', sum(trainingScores)/len(trainingScores))\n",
    "    print(f'average test score accuracy (train/test split {split}):', sum(testScores)/len(testScores))\n"
   ]
  },
  {
   "cell_type": "code",
   "execution_count": null,
   "metadata": {},
   "outputs": [
    {
     "name": "stdout",
     "output_type": "stream",
     "text": [
      "test set accuracy:  0.686046511627907\n",
      "training set accuracy:  0.6640625\n",
      "test set output probabilities:  [[1.  0.  0.  0.  0.  0. ]\n",
      " [0.8 0.2 0.  0.  0.  0. ]\n",
      " [0.4 0.2 0.4 0.  0.  0. ]\n",
      " [0.8 0.  0.2 0.  0.  0. ]\n",
      " [0.  1.  0.  0.  0.  0. ]\n",
      " [0.4 0.4 0.2 0.  0.  0. ]\n",
      " [0.  0.8 0.  0.2 0.  0. ]\n",
      " [0.4 0.  0.6 0.  0.  0. ]\n",
      " [1.  0.  0.  0.  0.  0. ]\n",
      " [0.4 0.2 0.4 0.  0.  0. ]\n",
      " [0.  1.  0.  0.  0.  0. ]\n",
      " [1.  0.  0.  0.  0.  0. ]\n",
      " [0.  0.  0.  0.  0.  1. ]\n",
      " [0.  0.  0.  1.  0.  0. ]\n",
      " [0.2 0.2 0.4 0.  0.  0.2]\n",
      " [1.  0.  0.  0.  0.  0. ]\n",
      " [0.6 0.2 0.2 0.  0.  0. ]\n",
      " [0.6 0.2 0.2 0.  0.  0. ]\n",
      " [0.2 0.4 0.  0.  0.4 0. ]\n",
      " [0.6 0.4 0.  0.  0.  0. ]\n",
      " [0.2 0.4 0.4 0.  0.  0. ]\n",
      " [0.2 0.8 0.  0.  0.  0. ]\n",
      " [0.2 0.6 0.  0.  0.  0.2]\n",
      " [0.  0.  0.  0.  0.  1. ]\n",
      " [0.2 0.2 0.2 0.  0.2 0.2]\n",
      " [1.  0.  0.  0.  0.  0. ]\n",
      " [1.  0.  0.  0.  0.  0. ]\n",
      " [0.  0.8 0.  0.2 0.  0. ]\n",
      " [0.4 0.6 0.  0.  0.  0. ]\n",
      " [0.  0.  0.  0.  0.  1. ]\n",
      " [0.6 0.4 0.  0.  0.  0. ]\n",
      " [0.2 0.8 0.  0.  0.  0. ]\n",
      " [0.2 0.4 0.2 0.  0.2 0. ]\n",
      " [0.4 0.2 0.  0.  0.4 0. ]\n",
      " [0.4 0.6 0.  0.  0.  0. ]\n",
      " [0.2 0.8 0.  0.  0.  0. ]\n",
      " [0.4 0.4 0.2 0.  0.  0. ]\n",
      " [0.4 0.6 0.  0.  0.  0. ]\n",
      " [0.6 0.  0.4 0.  0.  0. ]\n",
      " [0.2 0.2 0.  0.6 0.  0. ]\n",
      " [0.4 0.  0.6 0.  0.  0. ]\n",
      " [0.  0.  0.  0.  0.  1. ]\n",
      " [0.6 0.4 0.  0.  0.  0. ]\n",
      " [0.  0.6 0.  0.4 0.  0. ]\n",
      " [1.  0.  0.  0.  0.  0. ]\n",
      " [0.4 0.6 0.  0.  0.  0. ]\n",
      " [0.  0.6 0.  0.  0.4 0. ]\n",
      " [0.8 0.2 0.  0.  0.  0. ]\n",
      " [0.  1.  0.  0.  0.  0. ]\n",
      " [0.6 0.4 0.  0.  0.  0. ]\n",
      " [0.6 0.2 0.2 0.  0.  0. ]\n",
      " [0.6 0.  0.4 0.  0.  0. ]\n",
      " [0.8 0.  0.2 0.  0.  0. ]\n",
      " [0.  1.  0.  0.  0.  0. ]\n",
      " [0.8 0.  0.2 0.  0.  0. ]\n",
      " [1.  0.  0.  0.  0.  0. ]\n",
      " [0.  0.  0.  0.  0.  1. ]\n",
      " [0.  0.  0.  0.  0.  1. ]\n",
      " [0.4 0.4 0.  0.  0.  0.2]\n",
      " [0.2 0.2 0.4 0.  0.  0.2]\n",
      " [0.  1.  0.  0.  0.  0. ]\n",
      " [0.4 0.6 0.  0.  0.  0. ]\n",
      " [0.2 0.8 0.  0.  0.  0. ]\n",
      " [0.6 0.4 0.  0.  0.  0. ]\n",
      " [0.  0.6 0.  0.4 0.  0. ]\n",
      " [0.  1.  0.  0.  0.  0. ]\n",
      " [0.  0.  0.  0.  0.  1. ]\n",
      " [0.6 0.2 0.2 0.  0.  0. ]\n",
      " [1.  0.  0.  0.  0.  0. ]\n",
      " [0.  0.8 0.2 0.  0.  0. ]\n",
      " [0.4 0.2 0.4 0.  0.  0. ]\n",
      " [0.6 0.2 0.2 0.  0.  0. ]\n",
      " [0.4 0.6 0.  0.  0.  0. ]\n",
      " [0.2 0.4 0.  0.  0.4 0. ]\n",
      " [0.  0.  0.  0.  0.  1. ]\n",
      " [0.6 0.2 0.2 0.  0.  0. ]\n",
      " [0.8 0.2 0.  0.  0.  0. ]\n",
      " [0.2 0.4 0.2 0.  0.  0.2]\n",
      " [0.8 0.2 0.  0.  0.  0. ]\n",
      " [0.2 0.8 0.  0.  0.  0. ]\n",
      " [0.  1.  0.  0.  0.  0. ]\n",
      " [0.  0.2 0.  0.6 0.  0.2]\n",
      " [0.8 0.  0.2 0.  0.  0. ]\n",
      " [0.8 0.2 0.  0.  0.  0. ]\n",
      " [0.  0.6 0.  0.4 0.  0. ]\n",
      " [0.6 0.2 0.2 0.  0.  0. ]]\n"
     ]
    },
    {
     "name": "stderr",
     "output_type": "stream",
     "text": [
      "C:\\Users\\child\\AppData\\Roaming\\Python\\Python312\\site-packages\\sklearn\\neighbors\\_classification.py:238: DataConversionWarning: A column-vector y was passed when a 1d array was expected. Please change the shape of y to (n_samples,), for example using ravel().\n",
      "  return self._fit(X, y)\n"
     ]
    }
   ],
   "source": [
    "# Print the output probabilities for a test set (predict_proba)\n",
    "\n",
    "# Learn the glass data\n",
    "from ucimlrepo import fetch_ucirepo \n",
    "from sklearn.neighbors import KNeighborsClassifier\n",
    "from sklearn.model_selection import train_test_split\n",
    "  \n",
    "# fetch dataset \n",
    "glass_identification = fetch_ucirepo(id=42) \n",
    "  \n",
    "# data (as pandas dataframes) \n",
    "X = glass_identification.data.features \n",
    "y = glass_identification.data.targets \n",
    "\n",
    "X_train, X_test, y_train, y_test = train_test_split(X, y, test_size=split[0], train_size=split[1])\n",
    "\n",
    "\n",
    "classifier = KNeighborsClassifier()\n",
    "classifier.fit(X_train, y_train)\n",
    "\n",
    "print('test set accuracy: ', classifier.score(X_test, y_test))\n",
    "print('training set accuracy: ', classifier.score(X_train, y_train)) \n",
    "print('test set output probabilities: ', classifier.predict_proba(X_test))\n"
   ]
  },
  {
   "cell_type": "code",
   "execution_count": null,
   "metadata": {},
   "outputs": [
    {
     "name": "stderr",
     "output_type": "stream",
     "text": [
      "C:\\Users\\child\\AppData\\Roaming\\Python\\Python312\\site-packages\\sklearn\\neighbors\\_classification.py:238: DataConversionWarning: A column-vector y was passed when a 1d array was expected. Please change the shape of y to (n_samples,), for example using ravel().\n",
      "  return self._fit(X, y)\n",
      "C:\\Users\\child\\AppData\\Roaming\\Python\\Python312\\site-packages\\sklearn\\neighbors\\_classification.py:238: DataConversionWarning: A column-vector y was passed when a 1d array was expected. Please change the shape of y to (n_samples,), for example using ravel().\n",
      "  return self._fit(X, y)\n",
      "C:\\Users\\child\\AppData\\Roaming\\Python\\Python312\\site-packages\\sklearn\\neighbors\\_classification.py:238: DataConversionWarning: A column-vector y was passed when a 1d array was expected. Please change the shape of y to (n_samples,), for example using ravel().\n",
      "  return self._fit(X, y)\n"
     ]
    },
    {
     "name": "stdout",
     "output_type": "stream",
     "text": [
      "test set accuracy (p value: 2):  0.627906976744186\n",
      "training set accuracy (p value: 2):  0.75\n",
      "test set accuracy (p value: 3):  0.627906976744186\n",
      "training set accuracy (p value: 3):  0.7265625\n",
      "test set accuracy (p value: 4):  0.6744186046511628\n",
      "training set accuracy (p value: 4):  0.734375\n",
      "test set accuracy (p value: 5):  0.6744186046511628\n",
      "training set accuracy (p value: 5):  0.7265625\n",
      "test set accuracy (p value: 6):  0.6627906976744186\n",
      "training set accuracy (p value: 6):  0.71875\n"
     ]
    },
    {
     "name": "stderr",
     "output_type": "stream",
     "text": [
      "C:\\Users\\child\\AppData\\Roaming\\Python\\Python312\\site-packages\\sklearn\\neighbors\\_classification.py:238: DataConversionWarning: A column-vector y was passed when a 1d array was expected. Please change the shape of y to (n_samples,), for example using ravel().\n",
      "  return self._fit(X, y)\n",
      "C:\\Users\\child\\AppData\\Roaming\\Python\\Python312\\site-packages\\sklearn\\neighbors\\_classification.py:238: DataConversionWarning: A column-vector y was passed when a 1d array was expected. Please change the shape of y to (n_samples,), for example using ravel().\n",
      "  return self._fit(X, y)\n",
      "C:\\Users\\child\\AppData\\Roaming\\Python\\Python312\\site-packages\\sklearn\\neighbors\\_classification.py:238: DataConversionWarning: A column-vector y was passed when a 1d array was expected. Please change the shape of y to (n_samples,), for example using ravel().\n",
      "  return self._fit(X, y)\n"
     ]
    },
    {
     "name": "stdout",
     "output_type": "stream",
     "text": [
      "test set accuracy (p value: 8):  0.6627906976744186\n",
      "training set accuracy (p value: 8):  0.7109375\n",
      "test set accuracy (p value: 10):  0.6511627906976745\n",
      "training set accuracy (p value: 10):  0.7109375\n"
     ]
    },
    {
     "name": "stderr",
     "output_type": "stream",
     "text": [
      "C:\\Users\\child\\AppData\\Roaming\\Python\\Python312\\site-packages\\sklearn\\neighbors\\_classification.py:238: DataConversionWarning: A column-vector y was passed when a 1d array was expected. Please change the shape of y to (n_samples,), for example using ravel().\n",
      "  return self._fit(X, y)\n"
     ]
    }
   ],
   "source": [
    "# Try it with different p values (Minkowskian exponent) and discuss any differences\n",
    "\n",
    "# Learn the glass data\n",
    "from ucimlrepo import fetch_ucirepo \n",
    "from sklearn.neighbors import KNeighborsClassifier\n",
    "from sklearn.model_selection import train_test_split\n",
    "  \n",
    "# fetch dataset \n",
    "glass_identification = fetch_ucirepo(id=42) \n",
    "  \n",
    "# data (as pandas dataframes) \n",
    "X = glass_identification.data.features \n",
    "y = glass_identification.data.targets \n",
    "\n",
    "X_train, X_test, y_train, y_test = train_test_split(X, y, test_size=split[0], train_size=split[1])\n",
    "\n",
    "pValues = [2, 3, 4, 5, 6, 8, 10]\n",
    "for pValue in pValues:\n",
    "\n",
    "    classifier = KNeighborsClassifier(p=pValue)\n",
    "    classifier.fit(X_train, y_train)\n",
    "\n",
    "    print(f'test set accuracy (p value: {pValue}): ', classifier.score(X_test, y_test))\n",
    "    print(f'training set accuracy (p value: {pValue}): ', classifier.score(X_train, y_train)) \n"
   ]
  },
  {
   "cell_type": "markdown",
   "metadata": {},
   "source": [
    "**Discussion:**  \n",
    "| Train/Test Split | Training Accuracy | Test accuracy |\n",
    "| --- | --- | --- |\n",
    "| (0.2, 0.8) | 0.7631578947368421 | 0.6534883720930232 |\n",
    "| (0.3, 0.7) | 0.7657718120805369 | 0.6415384615384616 |\n",
    "| (0.4, 0.6) | 0.75 | 0.6267441860465116 | \n",
    "\n",
    "As you can see above, I started by running the KNeighborsClassifier model on differen train/test splits. So, I ran with the splits (0.2, 0.8), (0.3, 0.7), and (0.4, 0.6). Even with these considerably different training/set sets, the accuracies were still very close to each other. All things considered, Training set accuracy was always about 76% and the test set accuracy was always about 64%. Finally, as expeced, the Training accuracy was always slightly higher than the Test accuracy because the training set is the group that the model was trained on, so it had seen it all before.  \n",
    "\n",
    "After experimenting with different training/test splits, I output the probabilities for a test set (with predict_proba). Here are what some of those outputs looked like:  \n",
    "[[0.8 0.2 0.  0.  0.  0. ]  \n",
    " [0.4 0.2 0.4 0.  0.  0. ]  \n",
    " [0.8 0.  0.2 0.  0.  0. ]  \n",
    " [0.  1.  0.  0.  0.  0. ]  \n",
    " [0.4 0.4 0.2 0.  0.  0. ]  \n",
    " [0.  0.8 0.  0.2 0.  0. ]  \n",
    " [0.4 0.  0.6 0.  0.  0. ]  \n",
    " [1.  0.  0.  0.  0.  0. ]  \n",
    " [0.4 0.2 0.4 0.  0.  0. ]  \n",
    " [0.  1.  0.  0.  0.  0. ]  \n",
    " [1.  0.  0.  0.  0.  0. ]  \n",
    " [0.  0.  0.  0.  0.  1. ]  \n",
    " [0.  0.  0.  1.  0.  0. ]  \n",
    " [0.2 0.2 0.4 0.  0.  0.2]  \n",
    " [1.  0.  0.  0.  0.  0. ]  \n",
    " [0.6 0.2 0.2 0.  0.  0. ]  \n",
    " [0.6 0.2 0.2 0.  0.  0. ]  \n",
    " [0.2 0.4 0.  0.  0.4 0. ]  \n",
    " [0.6 0.4 0.  0.  0.  0. ]  \n",
    " [0.2 0.4 0.4 0.  0.  0. ]  \n",
    " [0.2 0.8 0.  0.  0.  0. ]  \n",
    " [0.2 0.6 0.  0.  0.  0.2]  \n",
    "...  \n",
    " [0.8 0.  0.2 0.  0.  0. ]  \n",
    " [0.8 0.2 0.  0.  0.  0. ]  \n",
    " [0.  0.6 0.  0.4 0.  0. ]  \n",
    " [0.6 0.2 0.2 0.  0.  0. ]]    \n",
    "\n",
    "This matrix of values tells us for each instance, the likelyhood of that instance being classified in each output class. So, for example, the row [0.4 0.4 0.2 0.  0.  0. ] means that this instance had a 40% similarity to class 1, 40% similarity to class 2, 20% similarity to class 3, and a negligible similarity to the remaining output classes.  \n",
    "\n",
    "\n",
    "Finally, I experimented with different p values (Minkowskian exponent):  \n",
    "| p value | Training Accuracy | Test accuracy |\n",
    "| --- | --- | --- |\n",
    "| 2 | 0.75 | 0.627906976744186 |\n",
    "| 3 | 0.7265625 | 0.627906976744186 |\n",
    "| 4 | 0.734375 | 0.6744186046511628 |\n",
    "| 5 | 0.7265625 | 0.6744186046511628 | \n",
    "| 6 | 0.71875 | 0.6627906976744186 | \n",
    "| 8 | 0.7109375 | 0.6627906976744186 | \n",
    "| 10 | 0.7109375 | 0.6511627906976745 |  \n",
    "\n",
    "As you can see from the table above, as the p value increased, there was a slight decrease in accuracy for both Training and Test sets. The p value is the Minkowskian exponent, meaning that it factors into the Minkowskian equation and effects the distance calculated betwen points. So it looks like, at least for this dataset, the higher the exponent, the lower the accuracy. Perhaps this is because the more complicated distance equation is unessesary for such a simple dataset.\n"
   ]
  },
  {
   "cell_type": "markdown",
   "metadata": {
    "id": "9vWiTdlbR2Xh"
   },
   "source": [
    "## 2 KNN Classification with normalization and distance weighting\n",
    "\n",
    "Use the [magic telescope](https://axon.cs.byu.edu/data/uci_class/MagicTelescope.arff) dataset\n",
    "\n",
    "### 2.1 (5%) - Without Normalization or Distance Weighting\n",
    "- Do random 80/20 train/test splits each time\n",
    "- Run with k=3 and *without* distance weighting and *without* normalization\n",
    "- Show train and test set accuracy"
   ]
  },
  {
   "cell_type": "code",
   "execution_count": null,
   "metadata": {
    "id": "4SSoasDQSKXb"
   },
   "outputs": [
    {
     "name": "stdout",
     "output_type": "stream",
     "text": [
      "training score:  0.883937960042061\n",
      "test score:  0.8120399579390115\n"
     ]
    }
   ],
   "source": [
    "# Learn magic telescope data\n",
    "from sklearn.neighbors import KNeighborsClassifier\n",
    "from scipy.io import arff\n",
    "import pandas as pd\n",
    "from sklearn.model_selection import train_test_split\n",
    "from sklearn.preprocessing import LabelEncoder\n",
    "\n",
    "# get data\n",
    "magicData = arff.loadarff('magicTelescope.arff')\n",
    "\n",
    "# put data into a data frame\n",
    "magicDataFrame = pd.DataFrame(magicData[0])\n",
    "\n",
    "# define the target\n",
    "y = LabelEncoder().fit_transform(magicDataFrame['class:'])\n",
    "\n",
    "# define the features\n",
    "X = magicDataFrame.drop(columns='class:')\n",
    "\n",
    "# split data\n",
    "X_train, X_test, y_train, y_test = train_test_split(X, y, test_size=0.2, train_size=0.8)\n",
    "\n",
    "classifier = KNeighborsClassifier(n_neighbors=3)\n",
    "classifier.fit(X_train, y_train)\n",
    "\n",
    "print('training score: ', classifier.score(X_train, y_train))\n",
    "print('test score: ', classifier.score(X_test, y_test))"
   ]
  },
  {
   "cell_type": "markdown",
   "metadata": {},
   "source": [
    "**Discussion:**  \n",
    "As you can see from the above results, I have run the KNeighborsClassifier with no distance weighting and no normalization. This means that I did not scale down the inputs to be between 0-1. Futher, not using distance weighting means that all distances are weighted 'uniformly'. This is the default parameter, it did not need added. Running my KNeighborsClassifier model on this data I found the following:  \n",
    "\n",
    "training score:  0.883937960042061  \n",
    "test score:  0.8120399579390115  \n",
    "\n",
    "These results look reasonable and expected! The training score is slightly higher than the test score (as usual). However, I do expect these values to be different when I add normalization and distance weighting, see below for those results.  "
   ]
  },
  {
   "cell_type": "markdown",
   "metadata": {},
   "source": [
    "### 2.2 (10%) With Normalization\n",
    "- Try it with k=3 without distance weighting but *with* normalization of input features.  You may use any reasonable normalization approach (e.g. standard min-max normalization between 0-1, z-transform, etc.)"
   ]
  },
  {
   "cell_type": "code",
   "execution_count": 2,
   "metadata": {},
   "outputs": [
    {
     "name": "stdout",
     "output_type": "stream",
     "text": [
      "training score:  0.9006966351209253\n",
      "test score:  0.8280757097791798\n"
     ]
    }
   ],
   "source": [
    "# Train/Predict with normalization\n",
    "\n",
    "# Learn magic telescope data\n",
    "from sklearn.neighbors import KNeighborsClassifier\n",
    "from scipy.io import arff\n",
    "import pandas as pd\n",
    "from sklearn.model_selection import train_test_split\n",
    "from sklearn.preprocessing import LabelEncoder\n",
    "from sklearn.preprocessing import MinMaxScaler\n",
    "\n",
    "# get data\n",
    "magicData = arff.loadarff('magicTelescope.arff')\n",
    "\n",
    "# put data into a data frame\n",
    "magicDataFrame = pd.DataFrame(magicData[0])\n",
    "\n",
    "# define the target\n",
    "y = LabelEncoder().fit_transform(magicDataFrame['class:'])\n",
    "\n",
    "# define the features\n",
    "X = magicDataFrame.drop(columns='class:')\n",
    "\n",
    "X = pd.DataFrame(MinMaxScaler().fit_transform(X), columns=X.columns)\n",
    "\n",
    "# split data\n",
    "X_train, X_test, y_train, y_test = train_test_split(X, y, test_size=0.2, train_size=0.8)\n",
    "\n",
    "classifier = KNeighborsClassifier(n_neighbors=3)\n",
    "classifier.fit(X_train, y_train)\n",
    "\n",
    "print('training score: ', classifier.score(X_train, y_train))\n",
    "print('test score: ', classifier.score(X_test, y_test))"
   ]
  },
  {
   "cell_type": "markdown",
   "metadata": {},
   "source": [
    "*Discuss the results of using normalized data vs. unnormalized data*  \n",
    "\n",
    "**Discussion:**  \n",
    "In the first example, I used unnormalized data with k=3 on the KNeighborsClassifier model. On the second example, I used the exact same data, still with k=3 on the KNeighborsClassifier model.  \n",
    "\n",
    "Unnormalized Data Results:  \n",
    "training score:  0.883937960042061  \n",
    "test score:  0.8120399579390115  \n",
    "\n",
    "Normalized Data Results:  \n",
    "training score:  0.9006966351209253  \n",
    "test score:  0.8280757097791798  \n",
    "\n",
    "Interestingly, comparing these results, I observed a slight increase in both training and test accuracy with the data normalized. I think that I saw this improvement because normalized data prevents outlier data or other large numbers from dominating the model's classification decision. For this reason, it is usually a good idea to normalize all data before training your model on it. So, in conclusion, when using most models (KNeighborsClassifier) included it is wise to normalize your data prior to training. "
   ]
  },
  {
   "cell_type": "markdown",
   "metadata": {},
   "source": [
    "### 2.3 (10%) With Distance Weighting\n",
    "- Try it with k=3 and with distance weighting *and* normalization"
   ]
  },
  {
   "cell_type": "code",
   "execution_count": 3,
   "metadata": {},
   "outputs": [
    {
     "name": "stdout",
     "output_type": "stream",
     "text": [
      "training score:  1.0\n",
      "test score:  0.8343848580441641\n"
     ]
    }
   ],
   "source": [
    "#Train/Precdict with normalization and distance weighting\n",
    "\n",
    "# Learn magic telescope data\n",
    "from sklearn.neighbors import KNeighborsClassifier\n",
    "from scipy.io import arff\n",
    "import pandas as pd\n",
    "from sklearn.model_selection import train_test_split\n",
    "from sklearn.preprocessing import LabelEncoder\n",
    "from sklearn.preprocessing import MinMaxScaler\n",
    "\n",
    "# get data\n",
    "magicData = arff.loadarff('magicTelescope.arff')\n",
    "\n",
    "# put data into a data frame\n",
    "magicDataFrame = pd.DataFrame(magicData[0])\n",
    "\n",
    "# define the target\n",
    "y = LabelEncoder().fit_transform(magicDataFrame['class:'])\n",
    "\n",
    "# define the features\n",
    "X = magicDataFrame.drop(columns='class:')\n",
    "\n",
    "# normalize data\n",
    "X = pd.DataFrame(MinMaxScaler().fit_transform(X), columns=X.columns)\n",
    "\n",
    "# split data\n",
    "X_train, X_test, y_train, y_test = train_test_split(X, y, test_size=0.2, train_size=0.8)\n",
    "\n",
    "classifier = KNeighborsClassifier(n_neighbors=3, weights='distance')\n",
    "classifier.fit(X_train, y_train)\n",
    "\n",
    "print('training score: ', classifier.score(X_train, y_train))\n",
    "print('test score: ', classifier.score(X_test, y_test))"
   ]
  },
  {
   "cell_type": "markdown",
   "metadata": {},
   "source": [
    "**Comparison and Discussion:**  \n",
    "In this example, in addition to appying normalization to my data, I also added distance weighting. As you can see from this data, I saw another significant improvement over normalization when adding distance weighting.  \n",
    "\n",
    "Unnormalized Data Results:  \n",
    "training score:  0.883937960042061  \n",
    "test score:  0.8120399579390115  \n",
    "\n",
    "Normalized Data Results:  \n",
    "training score:  0.9006966351209253  \n",
    "test score:  0.8280757097791798  \n",
    "\n",
    "With Distance Weighting and Normalization:  \n",
    "training score:  1.0  \n",
    "test score:  0.8343848580441641  \n",
    "\n",
    "While I observed a small improvement when normalizing the data before training my model on it, I saw another improvement in accuracy when adding distance weighting. Further, while training saw a huge accuracy improvement and test saw a small improvement. I think I observed these improvements because when adding distance weighting the influence of a point is determined by the inverse of its distance. That means, that neighbors that are further away have less of an influence on the output of a class. Not surprisingly, this improved the accuracy of my model because the closest points had the greatest influence on the classification of a new point. "
   ]
  },
  {
   "cell_type": "markdown",
   "metadata": {},
   "source": [
    "### 2.4 (10%) Different k Values\n",
    "- Using your normalized data with distance weighting, create one graph with classification accuracy on the test set on the y-axis and k values on the x-axis.\n",
    "- Use values of k from 1 to 15.  Use the same train/test split for each. "
   ]
  },
  {
   "cell_type": "code",
   "execution_count": 4,
   "metadata": {},
   "outputs": [
    {
     "data": {
      "image/png": "[encoded data removed]",
      "text/plain": [
       "<Figure size 640x480 with 1 Axes>"
      ]
     },
     "metadata": {},
     "output_type": "display_data"
    }
   ],
   "source": [
    "# Calculate and Graph classification accuracy vs k values\n",
    "\n",
    "# Learn magic telescope data\n",
    "from sklearn.neighbors import KNeighborsClassifier\n",
    "from scipy.io import arff\n",
    "import pandas as pd\n",
    "from sklearn.model_selection import train_test_split\n",
    "from sklearn.preprocessing import LabelEncoder\n",
    "from sklearn.preprocessing import MinMaxScaler\n",
    "import matplotlib.pyplot as plt\n",
    "\n",
    "# get data\n",
    "magicData = arff.loadarff('magicTelescope.arff')\n",
    "\n",
    "# put data into a data frame\n",
    "magicDataFrame = pd.DataFrame(magicData[0])\n",
    "\n",
    "# define the target\n",
    "y = LabelEncoder().fit_transform(magicDataFrame['class:'])\n",
    "\n",
    "# define the features\n",
    "X = magicDataFrame.drop(columns='class:')\n",
    "\n",
    "# normalize data\n",
    "X = pd.DataFrame(MinMaxScaler().fit_transform(X), columns=X.columns)\n",
    "\n",
    "allTestSetAccuracies = []\n",
    "for k in range(1, 16):\n",
    "\n",
    "    testSetAccuraciesForK = []\n",
    "    for i in range(10):\n",
    "\n",
    "        # split data\n",
    "        X_train, X_test, y_train, y_test = train_test_split(X, y, test_size=0.2, train_size=0.8)\n",
    "\n",
    "        classifier = KNeighborsClassifier(n_neighbors=k, weights='distance')\n",
    "        classifier.fit(X_train, y_train)\n",
    "\n",
    "        testSetAccuraciesForK.append(classifier.score(X_test, y_test))\n",
    "\n",
    "    allTestSetAccuracies.append(sum(testSetAccuraciesForK)/len(testSetAccuraciesForK))\n",
    "\n",
    "\n",
    "plt.plot(range(len(allTestSetAccuracies)), allTestSetAccuracies, marker='o')\n",
    "plt.xlabel('k value')\n",
    "plt.ylabel('Accuracy')\n",
    "\n",
    "plt.show()"
   ]
  },
  {
   "cell_type": "markdown",
   "metadata": {},
   "source": [
    "**Discussion**  \n",
    "\n",
    "Note, on the above graph I ran 10 iterations at each k value and averaged them to get better results.  \n",
    "\n",
    "Observing the output graph above, you can see that as the k value increased, the test set accuracy generally increased as well, but did plateu a little bit after k=8. You might wonder why there wasn't constant increase, why, for example there are local mins and maxes on this graph. I think that this has to do with the nature of the K nearest neighbor algorithm. Depending on the placement of certain instances and at with certain values of k, you might see a lower accuracy because it is observing a number of instances that are less helpful in contributing to a high accuracy."
   ]
  },
  {
   "cell_type": "markdown",
   "metadata": {
    "id": "SIRG42TgSR4x"
   },
   "source": [
    "## 3 KNN Regression with normalization and distance weighting\n",
    "\n",
    "Use the [sklean KNeighborsRegressor](https://scikit-learn.org/stable/modules/generated/sklearn.neighbors.KNeighborsRegressor.html#sklearn.neighbors.KNeighborsRegressor) on the [housing price prediction](https://axon.cs.byu.edu/data/uci_regression/housing.arff) problem.  \n",
    "### 3.1 (5%) Ethical Data\n",
    "Note this data set has an example of an inappropriate input feature which we discussed.  State which feature is inappropriate and discuss why."
   ]
  },
  {
   "cell_type": "markdown",
   "metadata": {},
   "source": [
    "**Discuss the innapropriate feature**  \n",
    "\n",
    "The inappropriate input feature is B: 1000(Bk - 0.63)^2 where Bk is the proportion of blacks by town. This feature is inappropriate because it is not right to base house prices on the number of people of a certain race in an area. Further, but incorporating this feature into your model, it will continue to undervalue those areas and make the predudice against these areas worse. Models are only as good as the data we give them, if we feed them data that makes decisions based on the race of people in an area, problems with race will only get worse, so this feature is an unethical one."
   ]
  },
  {
   "cell_type": "markdown",
   "metadata": {},
   "source": [
    "### 3.2 (15%) - KNN Regression \n",
    "- Do random 80/20 train/test splits each time\n",
    "- Run with k=3\n",
    "- Print the score (coefficient of determination) and Mean Absolute Error (MAE) for the train and test set for the cases of\n",
    "  - No input normalization and no distance weighting\n",
    "  - Normalization and no distance weighting\n",
    "  - Normalization and distance weighting\n",
    "- Normalize inputs features where needed but do not normalize the output"
   ]
  },
  {
   "cell_type": "code",
   "execution_count": 6,
   "metadata": {
    "id": "KBGUn43ASiXW"
   },
   "outputs": [],
   "source": [
    "# Learn and experiment with housing price prediction data"
   ]
  },
  {
   "cell_type": "markdown",
   "metadata": {},
   "source": [
    "*Discuss your results*"
   ]
  },
  {
   "cell_type": "markdown",
   "metadata": {},
   "source": [
    "### 3.3 (10%)  Different k Values\n",
    "- Using housing with normalized data and distance weighting, create one graph with MAE on the test set on the y-axis and k values on the x-axis\n",
    "- Use values of k from 1 to 15.  Use the same train/test split for each. "
   ]
  },
  {
   "cell_type": "code",
   "execution_count": null,
   "metadata": {},
   "outputs": [],
   "source": [
    "# Learn and graph for different k values"
   ]
  },
  {
   "cell_type": "markdown",
   "metadata": {},
   "source": [
    "Discussion"
   ]
  },
  {
   "cell_type": "markdown",
   "metadata": {},
   "source": [
    "## 4. (20%) KNN with nominal and real data\n",
    "\n",
    "- Use the [lymph dataset](https://axon.cs.byu.edu/data/uci_class/lymph.arff)\n",
    "- Use a 80/20 split of the data for the training/test set\n",
    "- This dataset has both continuous and nominal attributes \n",
    "- Implement a distance metric which uses Euclidean distance for continuous features and 0/1 distance for nominal. Hints:\n",
    "    - Write your own distance function (e.g. mydist) and use clf = KNeighborsClassifier(metric=mydist)\n",
    "    - Change the nominal features in the data set to integer values since KNeighborsClassifier expects numeric features. I used Label_Encoder on the nominal features.\n",
    "    - Keep a list of which features are nominal which mydist can use to decide which distance measure to use\n",
    "    - There was an occasional bug in SK version 1.3.0 (\"Flags object has no attribute 'c_contiguous'\") that went away when I upgraded to the lastest SK version 1.3.1 \n",
    "- Use your own choice for k and other parameters"
   ]
  },
  {
   "cell_type": "code",
   "execution_count": 5,
   "metadata": {},
   "outputs": [],
   "source": [
    "# Train/Predict lymph with your own distance metric"
   ]
  },
  {
   "cell_type": "markdown",
   "metadata": {},
   "source": [
    "*Explain your distance metric and discuss your results*"
   ]
  },
  {
   "cell_type": "markdown",
   "metadata": {},
   "source": [
    "## 5. (Optional 15% extra credit) Code up your own KNN Learner \n",
    "Below is a scaffold you could use if you want. Requirements for this task:\n",
    "- Your model should support the methods shown in the example scaffold below\n",
    "- Use Euclidean distance to decide closest neighbors\n",
    "- Implement both the classification and regression versions\n",
    "- Include optional distance weighting for both algorithms\n",
    "- Run your algorithm on the magic telescope and housing data sets above and discuss and compare your results "
   ]
  },
  {
   "cell_type": "markdown",
   "metadata": {},
   "source": [
    "*Discussion*"
   ]
  },
  {
   "cell_type": "code",
   "execution_count": null,
   "metadata": {},
   "outputs": [],
   "source": [
    "from sklearn.base import BaseEstimator, ClassifierMixin\n",
    "\n",
    "class KNNClassifier(BaseEstimator,ClassifierMixin):\n",
    "    def __init__(self, columntype=[], weight_type='inverse_distance'): ## add parameters here\n",
    "        \"\"\"\n",
    "        Args:\n",
    "            columntype for each column tells you if continues[real] or if nominal[categoritcal].\n",
    "            weight_type: inverse_distance voting or if non distance weighting. Options = [\"no_weight\",\"inverse_distance\"]\n",
    "        \"\"\"\n",
    "        self.columntype = columntype #Note This won't be needed until part 5\n",
    "        self.weight_type = weight_type\n",
    "\n",
    "    def fit(self, data, labels):\n",
    "        \"\"\" Fit the data; run the algorithm (for this lab really just saves the data :D)\n",
    "        Args:\n",
    "            X (array-like): A 2D numpy array with the training data, excluding targets\n",
    "            y (array-like): A 2D numpy array with the training targets\n",
    "        Returns:\n",
    "            self: this allows this to be chained, e.g. model.fit(X,y).predict(X_test)\n",
    "        \"\"\"\n",
    "        return self\n",
    "    \n",
    "    def predict(self, data):\n",
    "        \"\"\" Predict all classes for a dataset X\n",
    "        Args:\n",
    "            X (array-like): A 2D numpy array with the training data, excluding targets\n",
    "        Returns:\n",
    "            array, shape (n_samples,)\n",
    "                Predicted target values per element in X.\n",
    "        \"\"\"\n",
    "        pass\n",
    "\n",
    "    #Returns the Mean score given input data and labels\n",
    "    def score(self, X, y):\n",
    "        \"\"\" Return accuracy of model on a given dataset. Must implement own score function.\n",
    "        Args:\n",
    "            X (array-like): A 2D numpy array with data, excluding targets\n",
    "            y (array-like): A 2D numpy array with targets\n",
    "        Returns:\n",
    "            score : float\n",
    "                Mean accuracy of self.predict(X) wrt. y.\n",
    "        \"\"\"\n",
    "        return 0"
   ]
  }
 ],
 "metadata": {
  "colab": {
   "collapsed_sections": [],
   "name": "lab 1 - perceptron",
   "provenance": []
  },
  "kernelspec": {
   "display_name": "Python 3",
   "language": "python",
   "name": "python3"
  },
  "language_info": {
   "codemirror_mode": {
    "name": "ipython",
    "version": 3
   },
   "file_extension": ".py",
   "mimetype": "text/x-python",
   "name": "python",
   "nbconvert_exporter": "python",
   "pygments_lexer": "ipython3",
   "version": "3.12.6"
  }
 },
 "nbformat": 4,
 "nbformat_minor": 4
}
