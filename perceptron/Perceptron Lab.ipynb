{
  "cells": [
    {
      "cell_type": "markdown",
      "metadata": {
        "id": "DVL7_bgmIAPR"
      },
      "source": [
        "# Perceptron Lab"
      ]
    },
    {
      "cell_type": "markdown",
      "metadata": {
        "id": "rBIfzcfn3QPO"
      },
      "source": [
        "This is the scaffold notebook for the perceptron lab and each lab will have a similar scaffold.  Make your own copy of this notebook and then you can fill in the tasks.  **You will fill in code boxes and test boxes with discussion for most tasks** and particularly discussion of results, graphs, etc. Good writing, grammar, punctuation, etc. are important and points will be taken off if these things are lacking. \n",
        "\n",
        "In most cases just reporting results without discussion will not receive full credit. Thus, your discussion should also include sentences like the following: This is because…  Note that the …  I was surprised to observe… I am not sure why …, but my hypothesis is that …\n",
        "\n",
        "Start by looking over the scikit-learn [user guide](https://scikit-learn.org/stable/user_guide.html) and carefully reading over the [perceptron documentation](https://scikit-learn.org/stable/modules/generated/sklearn.linear_model.Perceptron.html)."
      ]
    },
    {
      "cell_type": "markdown",
      "metadata": {
        "id": "KibCIXIThpbE"
      },
      "source": [
        "## 1. Debug and Evaluation\n",
        "\n",
        "For most labs we will give you some data and expected results so that you can verify that you are doing things right and getting appropriate results.  We will then have you run on some other data with the exact same hyperparameters so we can see if your results are correct. \n",
        "\n",
        "### 1.1 Debug (5%)\n",
        "Download this [data set](https://raw.githubusercontent.com/cs472ta/CS472/master/datasets/linsep2nonorigin.arff) into your local directory and name it debug.arff.  To download rather than view, right-click the link and save as.  To allow consistent results run the Perceptron using the following hyperparameters:\n",
        "- Learning rate = .1\n",
        "- Do NOT shuffle the data after every epoch like you would normally do\n",
        "- Learn for a maximum of 10 epochs\n",
        "- Start all weights at 0 (which is the default for this scikit-learn implementation)  \n",
        "\n",
        "Your results should be:\n",
        "Accuracy = [.875]\\\n",
        "Final Weights = [[-0.23  0.18]]\\\n",
        "[-0.1] - This last weight is the bias weight, which they call the intercept.\n",
        "\n",
        "To help you with this first task, following is one detailed variation that would do this for you. You may use your own variation.  Note that commonly used variable names in the community are clf (classifier), X (array of input features), y (vector of output labels)."
      ]
    },
    {
      "cell_type": "code",
      "execution_count": 210,
      "metadata": {
        "id": "KgAyy82gixIF"
      },
      "outputs": [
        {
          "name": "stdout",
          "output_type": "stream",
          "text": [
            "-- Epoch 1\n",
            "Norm: 0.04, NNZs: 2, Bias: -0.100000, T: 8, Avg. loss: 0.013500\n",
            "Total training time: 0.00 seconds.\n",
            "-- Epoch 2\n",
            "Norm: 0.07, NNZs: 2, Bias: -0.100000, T: 16, Avg. loss: 0.011875\n",
            "Total training time: 0.00 seconds.\n",
            "-- Epoch 3\n",
            "Norm: 0.11, NNZs: 2, Bias: -0.100000, T: 24, Avg. loss: 0.010250\n",
            "Total training time: 0.00 seconds.\n",
            "-- Epoch 4\n",
            "Norm: 0.14, NNZs: 2, Bias: -0.100000, T: 32, Avg. loss: 0.008625\n",
            "Total training time: 0.00 seconds.\n",
            "-- Epoch 5\n",
            "Norm: 0.18, NNZs: 2, Bias: -0.100000, T: 40, Avg. loss: 0.007000\n",
            "Total training time: 0.00 seconds.\n",
            "-- Epoch 6\n",
            "Norm: 0.21, NNZs: 2, Bias: -0.100000, T: 48, Avg. loss: 0.005375\n",
            "Total training time: 0.00 seconds.\n",
            "-- Epoch 7\n",
            "Norm: 0.23, NNZs: 2, Bias: -0.100000, T: 56, Avg. loss: 0.008250\n",
            "Total training time: 0.00 seconds.\n",
            "-- Epoch 8\n",
            "Norm: 0.25, NNZs: 2, Bias: -0.100000, T: 64, Avg. loss: 0.007625\n",
            "Total training time: 0.00 seconds.\n",
            "-- Epoch 9\n",
            "Norm: 0.27, NNZs: 2, Bias: -0.100000, T: 72, Avg. loss: 0.007000\n",
            "Total training time: 0.00 seconds.\n",
            "-- Epoch 10\n",
            "Norm: 0.29, NNZs: 2, Bias: -0.100000, T: 80, Avg. loss: 0.006375\n",
            "Total training time: 0.00 seconds.\n",
            "[[-0.23  0.18]]\n",
            "[-0.1]\n",
            "0.875\n"
          ]
        },
        {
          "name": "stderr",
          "output_type": "stream",
          "text": [
            "c:\\Users\\child\\AppData\\Local\\Programs\\Python\\Python311\\Lib\\site-packages\\sklearn\\linear_model\\_stochastic_gradient.py:744: ConvergenceWarning: Maximum number of iteration reached before convergence. Consider increasing max_iter to improve the fit.\n",
            "  warnings.warn(\n"
          ]
        }
      ],
      "source": [
        "from sklearn.linear_model import Perceptron\n",
        "from scipy.io import arff\n",
        "import pandas as pd\n",
        "\n",
        "def runPerceptron(dataFile: str, max_iter: int = None):\n",
        "    if max_iter:\n",
        "        clf = Perceptron(shuffle=False, verbose=1, eta0=.1, max_iter=max_iter)\n",
        "    else:\n",
        "        clf = Perceptron(shuffle=False, verbose=1, eta0=.1)\n",
        "    Data_Set = arff.loadarff(dataFile)\n",
        "    Data_Set_df = pd.DataFrame(Data_Set[0])\n",
        "    Data_Set_np = Data_Set_df.to_numpy()\n",
        "    Data_Set_np = Data_Set_np.astype(float)\n",
        "    X = Data_Set_np[:, :-1]\n",
        "    y = Data_Set_np[:, -1]\n",
        "    clf.fit(X, y)\n",
        "    print(clf.coef_)\n",
        "    print(clf.intercept_)\n",
        "    print(clf.score(X, y))\n",
        "\n",
        "runPerceptron('debug.arff', 10)"
      ]
    },
    {
      "cell_type": "markdown",
      "metadata": {},
      "source": [
        "**Discussion:**  \n",
        "The data my perceptron model outputs is exactly what was expected. My training accuracy was 0.875, the bias wieght is -0.1, and the weight vector is [[-0.23  0.18]].  \n",
        "\n",
        "These are the results determined after 10 epochs of training on the debug.arff data. Like is suggested, I increaed the max iteration hyperparameter to 11 and the model converged to a training accuracy of 1.0. This makes sense because after 10 epochs, the weights must've still been adjusting to find the optimal and the data must be linearly seperable. This means that the model was able to find an intercept and slope to accurately seperate all points in the training data by classification.  \n",
        "\n",
        "It is important to note that this does not mean that this perceptron will classify with 100% accuracy accross all data, instead this means that it it can classify with 100% accuracy on the data it has been provided in the debug.arff dataset. If additional data was added to debug.arff and this model was run on that data, the accuracy may change, but this is expected because the training data is only a representation of all data in the dataset."
      ]
    },
    {
      "cell_type": "markdown",
      "metadata": {},
      "source": [
        "Notes:\n",
        "* If you increase (or just remove) max_iter your perceptron will converge to 100% in one more epoch.  Try it!\n",
        "* verbose (integer) specifies how much info you get after each epoch.  It does not change results.  Try it with 0.\n",
        "    * Norm is a measure of the total weight magnitudes in the current model.\n",
        "    * NNZs is the number of non-zero weights there currently are (not including the bias).\n",
        "    * clf.intercept_ is the value of the bias weight, NOT the actual y-intercept of the decision surface, though it will affect that.\n",
        "    * T is the total number of weight updates so far.  In this case all the weights were updated each epoch.\n",
        "    * Avg. loss is another measure of error.  More on that later.\n",
        "    * The activation function outputs 1 if net > 0, else 0."
      ]
    },
    {
      "cell_type": "markdown",
      "metadata": {
        "id": "kY3VNB1ui03N"
      },
      "source": [
        "### 1.2 (5%) Evaluation\n",
        "\n",
        "Now run your model  on the [evaluation dataset](https://raw.githubusercontent.com/cs472ta/CS472/master/datasets/data_banknote_authentication.arff) and report the final accuracy, weights, and bias. Use the exact same hyperparameters as the debug dataset. The most common reason for results not matching ours is not exactly using the same hyperparameters (e.g. initial weights, training exactly 10 epochs, no shuffling, etc.) Hint: Throughout these labs for the numerous cases where you are doing the same task, but with different data (e.g. debug, eval), you could create a function where you just pass the data set name, so as not to recreate the code multiple times."
      ]
    },
    {
      "cell_type": "code",
      "execution_count": 216,
      "metadata": {
        "id": "2yAxA78QjDh2"
      },
      "outputs": [
        {
          "name": "stdout",
          "output_type": "stream",
          "text": [
            "-- Epoch 1\n",
            "Norm: 1.42, NNZs: 4, Bias: 2.100000, T: 1372, Avg. loss: 0.023615\n",
            "Total training time: 0.00 seconds.\n",
            "-- Epoch 2\n",
            "Norm: 2.90, NNZs: 4, Bias: 2.600000, T: 2744, Avg. loss: 0.022359\n",
            "Total training time: 0.00 seconds.\n",
            "-- Epoch 3\n",
            "Norm: 3.62, NNZs: 4, Bias: 3.500000, T: 4116, Avg. loss: 0.028435\n",
            "Total training time: 0.00 seconds.\n",
            "-- Epoch 4\n",
            "Norm: 4.36, NNZs: 4, Bias: 3.700000, T: 5488, Avg. loss: 0.013195\n",
            "Total training time: 0.00 seconds.\n",
            "-- Epoch 5\n",
            "Norm: 4.51, NNZs: 4, Bias: 4.300000, T: 6860, Avg. loss: 0.015216\n",
            "Total training time: 0.00 seconds.\n",
            "-- Epoch 6\n",
            "Norm: 4.70, NNZs: 4, Bias: 4.700000, T: 8232, Avg. loss: 0.026061\n",
            "Total training time: 0.00 seconds.\n",
            "-- Epoch 7\n",
            "Norm: 5.40, NNZs: 4, Bias: 4.600000, T: 9604, Avg. loss: 0.018060\n",
            "Total training time: 0.00 seconds.\n",
            "-- Epoch 8\n",
            "Norm: 5.83, NNZs: 4, Bias: 4.800000, T: 10976, Avg. loss: 0.018378\n",
            "Total training time: 0.00 seconds.\n",
            "-- Epoch 9\n",
            "Norm: 5.88, NNZs: 4, Bias: 5.200000, T: 12348, Avg. loss: 0.015085\n",
            "Total training time: 0.00 seconds.\n",
            "Convergence after 9 epochs took 0.00 seconds\n",
            "[[-4.28857497 -2.390381   -3.0160324  -1.1686672 ]]\n",
            "[5.2]\n",
            "0.9766763848396501\n"
          ]
        }
      ],
      "source": [
        "# Load evaluation data\n",
        "# Train on the evaluation data\n",
        "# print your accuracy and weights. Do not enter these values by hand.\n",
        "runPerceptron('evaluation.arff', 10)"
      ]
    },
    {
      "cell_type": "markdown",
      "metadata": {
        "id": "U-4J5VcS9umq"
      },
      "source": [
        "**Report Results:**  \n",
        "Final Accuracy: 0.9766763848396501  \n",
        "Final Weights: [[-4.28857497 -2.390381   -3.0160324  -1.1686672 ]]  \n",
        "Final Bias: [5.2]  \n",
        "\n",
        "The results tell us important details about our perceptron model. For example, the final weights ([[-4.28857497 -2.390381   -3.0160324  -1.1686672 ]]) tell us the about the importance each input value has on predicting the output (ex: 3.6216,8.6661,-2.8073,-0.44699). This can also be seen as how strongly a given input value impacts the classification of a data point. Futher, notice that the final accuracy was 0.9766763848396501. Why was this not 1.0? Didn't it converge? I think that the reason this dataset converged without reaching 100% accuracy was becuase this dataset is not linearly seperable. The Perceptron model did its best to classify the data, found the weights which minimize error, and converged when the error was minimized. Finally, the bias tells us the weight given to the bias, which in this case was 5.2.\n",
        "\n",
        "**Discussion:**  \n",
        "In this task I ran the exact same perceptron model that I ran on the debug.arff data on evaluation.arff. From this line of code: Perceptron(shuffle=False, verbose=1, eta0=.1, max_iter=10), you can see that this means I did not suffle the data after each iteration, I requested verbose output (showing information about each Epoch), I set the learning rate to .1, and the maximum number of epochs this model would train on was 10.\n",
        "\n",
        "While I set the maximum number of epochs to 10, from the output you can see that this model was only trained on 9 epochs. The reason for this discrepancy is because this model converged on the 9th epoch. Convergence means that the model found weights for all inputs, including bias, which minimized error on the training data. Because the model had minimized error after 9 epochs, there was no need to continue onto a 10th epoch, so the model stopped.\n",
        "\n",
        "Further, note that I set the learning rate to .1. This is a constant value which determines how fast the weights should adjust while looking for convergence. The learning rate should not be too big, otherwise the model will jump over the optimal weights. Likewise, the learning rate should not be too small otherwise the adjustments may not be big enough to settle on the optimal value. The best way to determine the optimal learning rate is to experiement with several learning rates and discover which produces the best results."
      ]
    },
    {
      "cell_type": "markdown",
      "metadata": {
        "id": "9vWiTdlbR2Xh"
      },
      "source": [
        "## 2. Classifying on linearly separable and non-linearly separable data\n",
        "\n",
        "### 2.1 (5%) Create 2 datasets\n",
        "\n",
        "- Both with 8 instances using 2 real valued inputs with 4 instances from each class. \n",
        "- One data set should be linearly separable and the other not.\n",
        "- Show or print your datasets"
      ]
    },
    {
      "cell_type": "code",
      "execution_count": 217,
      "metadata": {
        "id": "4SSoasDQSKXb"
      },
      "outputs": [
        {
          "name": "stdout",
          "output_type": "stream",
          "text": [
            "Linearly Seperable Data:\n",
            "     a1    a2 class\n",
            "0   3.0   4.0  b'1'\n",
            "1   7.0  10.0  b'1'\n",
            "2   0.0   5.0  b'1'\n",
            "3  -5.0   0.0  b'1'\n",
            "4  10.0   0.0  b'0'\n",
            "5  10.0  10.0  b'0'\n",
            "6  11.0  13.0  b'0'\n",
            "7   8.0   5.0  b'0'\n",
            "\n",
            "Not Linearly Seperable Data:\n",
            "    a1   a2 class\n",
            "0 -1.0  0.0  b'1'\n",
            "1  1.0  0.0  b'1'\n",
            "2  0.0  1.0  b'1'\n",
            "3  0.0 -1.0  b'1'\n",
            "4 -2.0  0.0  b'0'\n",
            "5  2.0  0.0  b'0'\n",
            "6  0.0  2.0  b'0'\n",
            "7  0.0 -2.0  b'0'\n"
          ]
        }
      ],
      "source": [
        "# Create and show the 2 datasets. \n",
        "# You could do it here in Python or create arff files in your local folder with a text editor.  Either way show your dataset.\n",
        "\n",
        "from scipy.io import arff\n",
        "import pandas as pd\n",
        "\n",
        "data, meta = arff.loadarff('linearlySeperable.arff')\n",
        "\n",
        "dataFrame = pd.DataFrame(data)\n",
        "\n",
        "print('Linearly Seperable Data:')\n",
        "print(dataFrame)\n",
        "\n",
        "\n",
        "data, meta = arff.loadarff('notLinearlySeperable.arff')\n",
        "\n",
        "dataFrame = pd.DataFrame(data)\n",
        "\n",
        "print('\\nNot Linearly Seperable Data:')\n",
        "print(dataFrame)"
      ]
    },
    {
      "cell_type": "markdown",
      "metadata": {},
      "source": [
        "**Discussion:**  \n",
        "As you can see, here I have created two datasets. One (the first one), is linearly seperable, meaning that a straight line can be drawn dividing the two classes of data. The second dataset is not linearly seperable. This means that there is no straight line that will accurately put all point of one class on one side and all points of the other class on the other side.\n",
        "\n",
        "See below for graphs of each dataset and their optimal dividing line."
      ]
    },
    {
      "cell_type": "markdown",
      "metadata": {
        "id": "SIRG42TgSR4x"
      },
      "source": [
        "### 2.2 (5%) Train on both sets using the scikit-learn perceptron model\n",
        "- Train on each and print the results. Train until convergence (i.e. use the default max_iter by simply not specifying it).\n",
        "- You may choose your other hyperparameters."
      ]
    },
    {
      "cell_type": "code",
      "execution_count": 232,
      "metadata": {
        "id": "KBGUn43ASiXW"
      },
      "outputs": [
        {
          "name": "stdout",
          "output_type": "stream",
          "text": [
            "Linearly Seperable Data:\n",
            "-- Epoch 1\n",
            "Norm: 1.34, NNZs: 2, Bias: 0.100000, T: 8, Avg. loss: 0.450000\n",
            "Total training time: 0.00 seconds.\n",
            "-- Epoch 2\n",
            "Norm: 1.22, NNZs: 2, Bias: 0.200000, T: 16, Avg. loss: 2.537500\n",
            "Total training time: 0.00 seconds.\n",
            "-- Epoch 3\n",
            "Norm: 1.22, NNZs: 2, Bias: 0.300000, T: 24, Avg. loss: 2.325000\n",
            "Total training time: 0.00 seconds.\n",
            "-- Epoch 4\n",
            "Norm: 1.08, NNZs: 2, Bias: 0.400000, T: 32, Avg. loss: 0.312500\n",
            "Total training time: 0.00 seconds.\n",
            "-- Epoch 5\n",
            "Norm: 1.08, NNZs: 2, Bias: 0.400000, T: 40, Avg. loss: 0.000000\n",
            "Total training time: 0.00 seconds.\n",
            "-- Epoch 6\n",
            "Norm: 1.08, NNZs: 2, Bias: 0.400000, T: 48, Avg. loss: 0.000000\n",
            "Total training time: 0.00 seconds.\n",
            "-- Epoch 7\n",
            "Norm: 1.08, NNZs: 2, Bias: 0.400000, T: 56, Avg. loss: 0.000000\n",
            "Total training time: 0.00 seconds.\n",
            "-- Epoch 8\n",
            "Norm: 1.08, NNZs: 2, Bias: 0.400000, T: 64, Avg. loss: 0.000000\n",
            "Total training time: 0.00 seconds.\n",
            "-- Epoch 9\n",
            "Norm: 1.08, NNZs: 2, Bias: 0.400000, T: 72, Avg. loss: 0.000000\n",
            "Total training time: 0.00 seconds.\n",
            "-- Epoch 10\n",
            "Norm: 1.08, NNZs: 2, Bias: 0.400000, T: 80, Avg. loss: 0.000000\n",
            "Total training time: 0.00 seconds.\n",
            "Convergence after 10 epochs took 0.00 seconds\n",
            "[[-0.9  0.6]]\n",
            "[0.4]\n",
            "1.0\n",
            "\n",
            "Not Linearly Seperable:\n",
            "-- Epoch 1\n",
            "Norm: 0.10, NNZs: 1, Bias: -0.100000, T: 8, Avg. loss: 0.262500\n",
            "Total training time: 0.00 seconds.\n",
            "-- Epoch 2\n",
            "Norm: 0.10, NNZs: 1, Bias: -0.100000, T: 16, Avg. loss: 0.287500\n",
            "Total training time: 0.00 seconds.\n",
            "-- Epoch 3\n",
            "Norm: 0.10, NNZs: 1, Bias: -0.100000, T: 24, Avg. loss: 0.287500\n",
            "Total training time: 0.00 seconds.\n",
            "-- Epoch 4\n",
            "Norm: 0.10, NNZs: 1, Bias: -0.100000, T: 32, Avg. loss: 0.287500\n",
            "Total training time: 0.00 seconds.\n",
            "-- Epoch 5\n",
            "Norm: 0.10, NNZs: 1, Bias: -0.100000, T: 40, Avg. loss: 0.287500\n",
            "Total training time: 0.00 seconds.\n",
            "-- Epoch 6\n",
            "Norm: 0.10, NNZs: 1, Bias: -0.100000, T: 48, Avg. loss: 0.287500\n",
            "Total training time: 0.00 seconds.\n",
            "Convergence after 6 epochs took 0.00 seconds\n",
            "[[-0.1  0. ]]\n",
            "[-0.1]\n",
            "0.5\n"
          ]
        }
      ],
      "source": [
        "# Train and print results with both datasets \n",
        "print('Linearly Seperable Data:')\n",
        "runPerceptron('linearlySeperable.arff')\n",
        "\n",
        "print('\\nNot Linearly Seperable:')\n",
        "runPerceptron('notLinearlySeperable.arff')"
      ]
    },
    {
      "cell_type": "markdown",
      "metadata": {
        "id": "890A39KX9zLC"
      },
      "source": [
        "**Discussion:**  \n",
        "Reviewing the results of the perceptron model running on both my linearly seperable data and my not linearly seperable data, what I observe is exactly what I had expected.  \n",
        "\n",
        "First, running on my linearly seperable data, the perceptron model converged after 10 epochs determining my weights vector to be [[-0.9  0.6]], my bias weight to be 0.4, and classification accuracy to be 100%. For linearly seperable data, this accuracy is expected. The model started with a small random weight vector, made an output with those weights (aka net) and when incorrect made ajustments at the given learning rate. Repeating this process for all inputs 10 times, the model found weights that would classify all inputs correctly, so it had converged. Specifically, interpreting these results, the bias weight of 0.4 means that the graph's intercept is at 0.4. Further, from the weight vector [[-0.9  0.6]], we are able to determine the slope of the line using the formula: bias + W0(X1) + W1(X2) = 0. Simplified, this becomes -(2/3) + (3/2)X1 = X2. So, as you can see, using the weights and bias, I am able to create a a line seperating classes. (See below for the graphs of these lines)  \n",
        "\n",
        "Running on my non linearly seperable data, the perceptron model converged after 6 epochs. In this case, it did not converge because it had reached 100% accuracy, instead, it converged because it had minimized error. That means that the weights it found provide the most accurate line dividing the classes possible, given that there is no possible straight line that can divide these classes. Looking at the results provided for this specific dataset, we see that the weight vector is [[-0.1 0.]], the bias weight is -0.1, and the accuracy is 0.5. This weight vector means that the model determined that neither input had significant impact on output. Using the same formula as above, we get the equation -0.1 + (-0.1)(X1) + (0)(X2) = 0, which simplifies to -1 = X1. Because the perceptron outputs a 1 if net > 0, the perceptron will (generally) always output 0, which is true for 50% of the dataset and matches the accuracy we observe the perceptron output.  \n",
        "\n",
        "As I have described above, both outputs from the perceptron model are what I had expected given linearly seperable and non linearly seperable data. See below for graphs which visualize these data sets and their weights/bias. "
      ]
    },
    {
      "cell_type": "markdown",
      "metadata": {
        "id": "v19fpixqTe-7"
      },
      "source": [
        "### 2.3 (10%) Graph the datasets and their corresponding decision line\n",
        " \n",
        " - Graph each dataset\n",
        " - Use your trained perceptrons above to determine each dataset's decision line\n",
        "    - We discssed how to find the slope and intercept in class and the equation is in the Perceptron slides\n",
        " - For all graphs always label the axes!\n",
        " - Following are examples of what graphs could look like\n",
        " \n",
        "![Linearly Separable Data](https://raw.githubusercontent.com/rmorain/CS472-1/master/images/perceptron/linearly_separable.png)\n",
        "\n",
        "![Not Linearly Separable](https://raw.githubusercontent.com/rmorain/CS472-1/master/images/perceptron/not_linearly_separable.png)"
      ]
    },
    {
      "cell_type": "code",
      "execution_count": 231,
      "metadata": {
        "id": "ZCPFUAGTS2sX"
      },
      "outputs": [
        {
          "data": {
            "image/png": "[encoded data removed]",
            "text/plain": [
              "<Figure size 640x480 with 1 Axes>"
            ]
          },
          "metadata": {},
          "output_type": "display_data"
        },
        {
          "data": {
            "image/png": "[encoded data removed]",
            "text/plain": [
              "<Figure size 640x480 with 1 Axes>"
            ]
          },
          "metadata": {},
          "output_type": "display_data"
        }
      ],
      "source": [
        "# Graph datasets and decision lines for both cases.\n",
        "\n",
        "import matplotlib.pyplot as plt\n",
        "import numpy as np\n",
        "\n",
        "# Linearly Seperable Data\n",
        "\n",
        "data = np.array([[8.0,5.0],[11.0,13.0],[10.0,10.0],[10.0,0.0],[3.0,4.0],[7.0,10.0],[0.0,5.0],[-5.0,0.0]])\n",
        "labels = np.array([0,0,0,0,1,1,1,1])\n",
        "\n",
        "# Create a scatter plot of data\n",
        "plt.xlim(-15,15)\n",
        "plt.ylim(-15,15)\n",
        "scatter = plt.scatter(data[:,0], data[:,1], c = labels, s=200, cmap='seismic')\n",
        "legend = plt.legend(*scatter.legend_elements(num=1), title=\"Class\", loc='upper right') # Legend\n",
        "\n",
        "# Plot the learned separator.  We just made up the slope and intercept for this example. You need to calculate \n",
        "# the correct slope and intercept using your learned weights and bias.\n",
        "xlist = np.linspace(-15.0, 15.0, 100) # create 100 evenly spaced points between -1 and 1 for the x axis\n",
        "ylist = np.linspace(-15.0, 15.0, 100) # create 100 evenly spaced points between -1 and 1 for the y axis\n",
        "slope = (3/2)\n",
        "intercept = -(2/3)\n",
        "eq = slope*xlist + intercept\n",
        "plt.plot(xlist,  eq, '-k', )\n",
        "plt.title('Linearly Separable Data Example')\n",
        "plt.xlabel('input1')\n",
        "plt.ylabel('input2')\n",
        "plt.grid() # add grid lines\n",
        "plt.show() # show the plot\n",
        "\n",
        "\n",
        "# Non linearly Seperable data\n",
        "\n",
        "data = np.array([[0,-2],[0,2],[2,0],[2,3],[0,-1],[0,1],[1,0],[1,4]])\n",
        "labels = np.array([0,0,0,0,1,1,1,1])\n",
        "\n",
        "# Create a scatter plot of data\n",
        "plt.xlim(-4,4)\n",
        "plt.ylim(-4,4)\n",
        "scatter = plt.scatter(data[:,0], data[:,1], c = labels, s=200, cmap='seismic')\n",
        "legend = plt.legend(*scatter.legend_elements(num=1), title=\"Class\", loc='upper right')\n",
        "\n",
        "# Plot the learned separator.  We just made up the slope and intercept for this example. You need to calculate \n",
        "# the correct slope and intercept using your learned weights and bias.\n",
        "xlist = np.linspace(-4.0, 4.0, 100) # create 100 evenly spaced points between -1 and 1 for the x axis\n",
        "ylist = np.linspace(-4.0, 4.0, 100) # create 100 evenly spaced points between -1 and 1 for the y axis\n",
        "xValue = -1\n",
        "plt.axvline(x=xValue, label=f'X1 = {xValue}')\n",
        "plt.title('Not Linearly Separable Data Example')\n",
        "plt.xlabel('input1')\n",
        "plt.ylabel('input2')\n",
        "plt.grid()\n",
        "plt.show()"
      ]
    },
    {
      "cell_type": "markdown",
      "metadata": {
        "id": "M7dyHR0c92zd"
      },
      "source": [
        "**Discussion:**  \n",
        "As you can see above, I have found and plotted lines to accurately divide the data into classes (when linearly seperable). For the linearly seperable data, this line put all of one class on one side of the line while putting all of the other class on the other side of the line.  \n",
        "\n",
        "To find these lines, I used the formula: bias + weight1(input1) + weight2(input2) = 0.  \n",
        "\n",
        "Applying this formula to my linearly seperable data you get the following: 0.4 + (-0.9)input1 + (0.6)input2 = 0. This equation simplified provides the following, (-2/3) + (3/2)input1 = input2. When this line is plotted, it linearly seperates the two classes (though it is very close). This explains why accuracy was 100%.  \n",
        "\n",
        "Then, applying this formula to my non linearly seperable data you get the following: (-0.1) + (-0.1)input1 + (0)input2 = 0, which simplifies to (-1) = input1. Because this data is not linearly seperable, instead of finding a line that seperated all classes perfectly, it found a line that would minimize error. As discussed before, that means that this line put all data one one side of all data points where it would get exactly 50% of classifications correct. Becuase my perceptron output an accuracy of 0.5, this is exactly what I would expect. "
      ]
    },
    {
      "cell_type": "markdown",
      "metadata": {
        "id": "_N5RXV8AzdRF"
      },
      "source": [
        "### 2.4 (5%) Discuss why perceptrons in general will not get perfect accuracy on non-linearly separable data"
      ]
    },
    {
      "cell_type": "markdown",
      "metadata": {
        "id": "0hSjHuLdzdRF"
      },
      "source": [
        "**Discussion:**  \n",
        "Generally, perceptrons will not get perfect accuracy on non-linearly separable data because the output of the perceptron model is a bias weight (intercept) and a weight vector. Using the formula discussed above: bias + weight1(input1) + weight2(input2) + ... = 0. The perceptron can only output a point, line, plane, or hyperplane to seperate data into classes as best it can. If data is linearly separable, it is promised to linearly sperate the data given enough epochs. If the data is not linearly separable, then implementations such as the one we are using will determine the weights that will minimize the error.\n",
        "\n",
        "Becuase the perceptron can only output points, lines, planes, and hyperplanes, it is limited to perfectly classifying data that can be divided by these surfaces. If the perceptron was able to output higher order surfaces such as parabolas, and functions of (x^n), then it could determine weights to navigate around groups of non-linearly separable data, however, given our basic linear perceptron model, it is generally not possible to get perfect accuracy on non-linearly separable data."
      ]
    },
    {
      "cell_type": "markdown",
      "metadata": {
        "id": "0ySvhd1lUGSe"
      },
      "source": [
        "## 3. Use the perceptron to learn this version of the [voting data set](https://raw.githubusercontent.com/cs472ta/CS472/master/datasets/voting-dataset.arff)\n",
        "\n",
        "This particular task is an edited version of the standard voting set, where we have replaced all the “don’t know” values with the most common value for the particular attribute. Look at the [tutorial](https://github.com/cs472ta/CS472/blob/master/Tutorial.ipynb) from the Labs Content page to see examples of prepping the voting data set for sklearn.\n",
        "\n",
        "### 3.1 (10%) Average final training and test set accuracy over multiple trials\n",
        "\n",
        "- Learn the voting data five times with different random 70/30 Training/Test splits each time\n",
        "- Use a learning rate of 1.  The other hyperparameters are up to you.\n",
        "- Report the 5 trials and the average training and test accuracy and number of epochs to converge across the 5 trials in a table \n",
        "    - Below is an example of what a 2 trial table might look like\n",
        "\n",
        "| Trial | Training Accuracy | Test accuracy | Number of epochs |\n",
        "| --- | --- | --- | --- |\n",
        "| 1 | .950 | .550 | 4 |\n",
        "| 2 | .850 | .450 | 6 |\n",
        "| Average | .900 | .500 | 5 | \n",
        "\n",
        "*- As a rough sanity check, typical Perceptron test accuracies for the voting data set are 90%-98%.*\n"
      ]
    },
    {
      "cell_type": "code",
      "execution_count": 207,
      "metadata": {
        "id": "Romyl4G8Trki"
      },
      "outputs": [
        {
          "name": "stdout",
          "output_type": "stream",
          "text": [
            "-- Epoch 1\n",
            "Norm: 13.34, NNZs: 16, Bias: -2.000000, T: 322, Avg. loss: 0.341615\n",
            "Total training time: 0.00 seconds.\n",
            "-- Epoch 2\n",
            "Norm: 15.00, NNZs: 14, Bias: -4.000000, T: 644, Avg. loss: 0.329193\n",
            "Total training time: 0.00 seconds.\n",
            "-- Epoch 3\n",
            "Norm: 17.00, NNZs: 14, Bias: -3.000000, T: 966, Avg. loss: 0.276398\n",
            "Total training time: 0.00 seconds.\n",
            "-- Epoch 4\n",
            "Norm: 18.22, NNZs: 15, Bias: -4.000000, T: 1288, Avg. loss: 0.226708\n",
            "Total training time: 0.00 seconds.\n",
            "-- Epoch 5\n",
            "Norm: 18.08, NNZs: 16, Bias: -5.000000, T: 1610, Avg. loss: 0.267081\n",
            "Total training time: 0.00 seconds.\n",
            "-- Epoch 6\n",
            "Norm: 18.47, NNZs: 14, Bias: -6.000000, T: 1932, Avg. loss: 0.270186\n",
            "Total training time: 0.00 seconds.\n",
            "-- Epoch 7\n",
            "Norm: 20.52, NNZs: 15, Bias: -6.000000, T: 2254, Avg. loss: 0.236025\n",
            "Total training time: 0.00 seconds.\n",
            "-- Epoch 8\n",
            "Norm: 21.28, NNZs: 15, Bias: -7.000000, T: 2576, Avg. loss: 0.189441\n",
            "Total training time: 0.00 seconds.\n",
            "-- Epoch 9\n",
            "Norm: 23.04, NNZs: 15, Bias: -6.000000, T: 2898, Avg. loss: 0.236025\n",
            "Total training time: 0.00 seconds.\n",
            "-- Epoch 10\n",
            "Norm: 22.52, NNZs: 16, Bias: -7.000000, T: 3220, Avg. loss: 0.273292\n",
            "Total training time: 0.00 seconds.\n",
            "-- Epoch 11\n",
            "Norm: 21.79, NNZs: 14, Bias: -7.000000, T: 3542, Avg. loss: 0.260870\n",
            "Total training time: 0.00 seconds.\n",
            "-- Epoch 12\n",
            "Norm: 21.63, NNZs: 15, Bias: -8.000000, T: 3864, Avg. loss: 0.239130\n",
            "Total training time: 0.00 seconds.\n",
            "-- Epoch 13\n",
            "Norm: 21.63, NNZs: 16, Bias: -9.000000, T: 4186, Avg. loss: 0.183230\n",
            "Total training time: 0.00 seconds.\n",
            "-- Epoch 14\n",
            "Norm: 21.75, NNZs: 15, Bias: -8.000000, T: 4508, Avg. loss: 0.242236\n",
            "Total training time: 0.00 seconds.\n",
            "-- Epoch 15\n",
            "Norm: 21.61, NNZs: 15, Bias: -10.000000, T: 4830, Avg. loss: 0.291925\n",
            "Total training time: 0.00 seconds.\n",
            "-- Epoch 16\n",
            "Norm: 22.36, NNZs: 15, Bias: -9.000000, T: 5152, Avg. loss: 0.251553\n",
            "Total training time: 0.00 seconds.\n",
            "-- Epoch 17\n",
            "Norm: 22.74, NNZs: 15, Bias: -10.000000, T: 5474, Avg. loss: 0.242236\n",
            "Total training time: 0.00 seconds.\n",
            "-- Epoch 18\n",
            "Norm: 21.95, NNZs: 15, Bias: -10.000000, T: 5796, Avg. loss: 0.319876\n",
            "Total training time: 0.00 seconds.\n",
            "Convergence after 18 epochs took 0.00 seconds\n",
            "[[  0.  -1.  -6.  15.   5.  -1.   5.   4.  -6.   3. -10.   1.   1.   1.\n",
            "   -2.   1.]]\n",
            "[-10.]\n",
            "training score:  0.9658385093167702\n",
            "test score:  0.9784172661870504\n"
          ]
        }
      ],
      "source": [
        "# Run the perceptron 5 times on the voting data set with different splits and record the results.\n",
        "# Hint: look up scikit-learn train_test_split\n",
        "# Create the table using the tool of your choice\n",
        "from sklearn.preprocessing import LabelEncoder\n",
        "from sklearn.model_selection import train_test_split\n",
        "from sklearn.linear_model import Perceptron\n",
        "\n",
        "# load the arff data\n",
        "votingData = arff.loadarff('voting.arff')\n",
        "\n",
        "# convert to a dataframe and encode the labels as 1/0\n",
        "votingDataFrame = pd.DataFrame(votingData[0])\n",
        "votingLabelsEncoded = votingDataFrame.apply(LabelEncoder().fit_transform)\n",
        "\n",
        "# split the data 30/70\n",
        "splitData = train_test_split(votingLabelsEncoded, test_size=0.3, train_size=0.7, shuffle=True)\n",
        "\n",
        "trainingData = splitData[0]\n",
        "testData = splitData[1]\n",
        "\n",
        "# init Perceptron with a learning rate of 1\n",
        "percept = Perceptron(eta0=1, verbose=1)\n",
        "\n",
        "# init training dataset\n",
        "trainingDataSet_DF = pd.DataFrame(trainingData)\n",
        "trainingDataSet_NP = trainingDataSet_DF.to_numpy()\n",
        "trainingDataSet_NP = trainingDataSet_NP.astype(float)\n",
        "trainX = trainingDataSet_NP[:, :-1]\n",
        "trainy = trainingDataSet_NP[:, -1]\n",
        "\n",
        "# train on training dataset and print results\n",
        "percept.fit(trainX, trainy)\n",
        "print(percept.coef_)\n",
        "print(percept.intercept_)\n",
        "print('training score: ', percept.score(trainX, trainy))\n",
        "\n",
        "# init test dataset\n",
        "testDataSet_DF = pd.DataFrame(testData)\n",
        "testDataSet_NP = testDataSet_DF.to_numpy()\n",
        "testDataSet_NP = testDataSet_NP.astype(float)\n",
        "testX = testDataSet_NP[:, :-1]\n",
        "testy = testDataSet_NP[:, -1]\n",
        "\n",
        "# test model on test dataset\n",
        "print('test score: ', percept.score(testX, testy))\n"
      ]
    },
    {
      "cell_type": "markdown",
      "metadata": {},
      "source": [
        "| Trial | Training Accuracy | Test accuracy | Number of epochs |\n",
        "| --- | --- | --- | --- |\n",
        "| 1 | 0.9720496894409938 | 0.9424460431654677 | 14 |\n",
        "| 2 | 0.9596273291925466 | 0.9424460431654677 | 7 |\n",
        "| 3 | 0.9751552795031055 | 0.935251798561151 | 10 |\n",
        "| 4 | 0.9658385093167702 | 0.9640287769784173 | 15 |\n",
        "| 5 | 0.9192546583850931 | 0.9064748201438849 | 14 |\n",
        "| Average | 0.9583850931677 | 0.93812949640288 | 12 | "
      ]
    },
    {
      "cell_type": "markdown",
      "metadata": {},
      "source": [
        "**Discussion:**  \n",
        "As you can see from the above table, the average training accuracy accross 5 trial runs on the voting dataset is 95.83% and the average Test accuracy is 93.81%.  \n",
        "\n",
        "Looking at these results, I find it interesting that the training accuracy is always higher than the test Accuracy. This makes sense because the training accuracy is how good the model got at classification on the training set. While the model is running on the training set, the weights are adjusting and the bias is moving, so the model will find the optimal solution to the training data.  \n",
        "\n",
        "While the model will learn to optimize its results on the training set, when it runs on the test set it is classifying information that it has never seen before and the weights are no longer adjusting. So, the test set is representative of how well the model works on unseen data. So, when running on test data, the model is completely reliant on how well the training data represented the test data.  \n",
        "\n",
        "Further, when looking at the above results I notice that the test set accuracy is only 2-3% lower than the training set accuracy. I imagine that this is a good range to be in because too large of a difference in accuracies would indicate that the model overfit the training set and was not generalized well to predict outcomes in the test set.  \n",
        "\n",
        "Looking at these results I think that the training set well-prepared the model for the test set."
      ]
    },
    {
      "cell_type": "markdown",
      "metadata": {
        "id": "cm4rbWkzVeoR"
      },
      "source": [
        "### 3.2 (10%) Interpreting the Model\n",
        "- Learn with the perceptron once on the full voting data set\n",
        "- Look at the learned weights and bias and do your best to explain what the model has learned and how the individual input features affect the result. \n",
        "- Which specific features are most critical for the voting task, and which are least critical? "
      ]
    },
    {
      "cell_type": "code",
      "execution_count": 208,
      "metadata": {},
      "outputs": [
        {
          "name": "stdout",
          "output_type": "stream",
          "text": [
            "-- Epoch 1\n",
            "Norm: 14.28, NNZs: 12, Bias: -2.000000, T: 461, Avg. loss: 0.305857\n",
            "Total training time: 0.00 seconds.\n",
            "-- Epoch 2\n",
            "Norm: 17.26, NNZs: 11, Bias: -3.000000, T: 922, Avg. loss: 0.308026\n",
            "Total training time: 0.00 seconds.\n",
            "-- Epoch 3\n",
            "Norm: 18.97, NNZs: 15, Bias: -5.000000, T: 1383, Avg. loss: 0.255965\n",
            "Total training time: 0.00 seconds.\n",
            "-- Epoch 4\n",
            "Norm: 20.90, NNZs: 15, Bias: -5.000000, T: 1844, Avg. loss: 0.203905\n",
            "Total training time: 0.00 seconds.\n",
            "-- Epoch 5\n",
            "Norm: 22.43, NNZs: 14, Bias: -7.000000, T: 2305, Avg. loss: 0.253796\n",
            "Total training time: 0.00 seconds.\n",
            "-- Epoch 6\n",
            "Norm: 23.17, NNZs: 16, Bias: -8.000000, T: 2766, Avg. loss: 0.208243\n",
            "Total training time: 0.00 seconds.\n",
            "-- Epoch 7\n",
            "Norm: 23.85, NNZs: 15, Bias: -8.000000, T: 3227, Avg. loss: 0.210412\n",
            "Total training time: 0.00 seconds.\n",
            "-- Epoch 8\n",
            "Norm: 25.22, NNZs: 15, Bias: -10.000000, T: 3688, Avg. loss: 0.234273\n",
            "Total training time: 0.00 seconds.\n",
            "-- Epoch 9\n",
            "Norm: 25.69, NNZs: 14, Bias: -9.000000, T: 4149, Avg. loss: 0.277657\n",
            "Total training time: 0.00 seconds.\n",
            "Convergence after 9 epochs took 0.00 seconds\n",
            "[[  0.  -3.  -8.  17.   4.  -2.   5.   6.  -7.   5. -10.  -1.  -1.   0.\n",
            "   -4.   5.]]\n",
            "[-9.]\n",
            "training score:  0.9609544468546638\n"
          ]
        }
      ],
      "source": [
        "#Learn once on the full voting data set.  If you Look at our tutorial at the beginning \n",
        "from sklearn.preprocessing import LabelEncoder\n",
        "from sklearn.linear_model import Perceptron\n",
        "\n",
        "# load the arff data\n",
        "votingData = arff.loadarff('voting.arff')\n",
        "\n",
        "# convert to a dataframe and encode the labels as 1/0\n",
        "votingDataFrame = pd.DataFrame(votingData[0])\n",
        "votingLabelsEncoded = votingDataFrame.apply(LabelEncoder().fit_transform)\n",
        "\n",
        "# init Perceptron with a learning rate of 1\n",
        "percept = Perceptron(eta0=1, verbose=1)\n",
        "\n",
        "# init training dataset\n",
        "DataSet_DF = pd.DataFrame(votingLabelsEncoded)\n",
        "DataSet_NP = DataSet_DF.to_numpy()\n",
        "DataSet_NP = DataSet_NP.astype(float)\n",
        "X = DataSet_NP[:, :-1]\n",
        "y = DataSet_NP[:, -1]\n",
        "\n",
        "# train on training dataset and print results\n",
        "percept.fit(X, y)\n",
        "print(percept.coef_)\n",
        "print(percept.intercept_)\n",
        "print('training score: ', percept.score(X, y))"
      ]
    },
    {
      "cell_type": "markdown",
      "metadata": {},
      "source": [
        "**Discussion:**  \n",
        "When I ran the perceptron model on the entire voting dataset, the perceptron output the following information:  \n",
        "\n",
        "Weight Vector: [[  0.  -3.  -8.  17.   4.  -2.   5.   6.  -7.   5. -10.  -1.  -1.   0.   -4.   5.]]  \n",
        "Bias Weight: [-9.]  \n",
        "Training Accuracy: 0.9609544468546638  \n",
        "\n",
        "This information is very informative in communicating to us which input features had a large impact on the output and which input features had a small impact on output.  \n",
        "\n",
        "For example, let's look at the first weight in the weight vector, which is 0. This weight is assiciated with the first input, handicapped-infants ('y'/'n'). A zero means that this vote had very little impact on determining if the voter was republican or democrat. If that is the case, it makes sense that the weight was driven down to zero. Considering how the perceptron model works, each input is multiplied by it's corresponding weight to contribute to the net value, which determines the output. When an input contribues to the wrong decision, it's value is corrected to decrease errors of this type in the future. The fact that this weight ends at zero suggests that in the end this input had very little influence when determining the party of a voter.  \n",
        "\n",
        "On the other hand, let's consider a large weight value such as the one at index 3. The weight at index 3 is 17 and is associated with the vote on physician-fee-freeze. The large value assiciated with this input suggests that voting 1 on this bill had a huge impact on the voter being of party one. That means that this vote played a huge part in determining the party of an individual. When considering the perceptron model, this makes sense because when a node contributes to an incorrect decision, it will be driven the direction to minimize error. That means that this input was consistently driven more and more positive becuase of its impact in determining a voter's party.  \n",
        "\n",
        "All things considered, the inputs with large numbers such as physician-fee-freeze and synfuels-corporation-cutback had a large influence when determining a voter's party while smaller inputs such as handicapped-infants and duty-free-exports had a very small impact on determining a person's party. "
      ]
    },
    {
      "cell_type": "markdown",
      "metadata": {
        "id": "NyUmJ4yWVsQ7"
      },
      "source": [
        "### 3.3 (15%) Misclassification rate vs epochs \n",
        "\n",
        "Learn with the perceptron once on the full voting data set and graph the misclassification rate (number_misclassified  /  number_of_total_data_points) at each epoch until convergence (0th – final epoch).  Hints:\n",
        "- For the 0th epoch (i.e. initial weights), assume the initial misclassification rate is 50% and let that be the first point on your graph. Since there are 2 output classes, random guessing would only get it right about 1/2 of the time. Missclassifcation rate is 1 - accuracy.\n",
        "- Doing clf.fit with max_iter = 1, and warm_start=True will let you loop through epochs one at a time, allowing you to look at accuracy, etc. after each epoch.  But how do you know how many epochs to run until convergence?  One way is to just to first run it until convergence with random_state = c to see how many epochs it took (n_iter_).  Then run it again one epoch at a time n_iter_ times using the same random_state constant c (so that you get the exact same conditions).\n",
        "- Below is a rough example of what this type of graph might look like (though this graph is for avg rate across multiple trials)\n",
        "\n",
        "![Average Misclassification Rate](https://raw.githubusercontent.com/rmorain/CS472-1/master/images/perceptron/avg_misclassification_rate_vs_epochs.png)"
      ]
    },
    {
      "cell_type": "code",
      "execution_count": 209,
      "metadata": {
        "id": "2_ZRPWWVVeFM"
      },
      "outputs": [
        {
          "name": "stdout",
          "output_type": "stream",
          "text": [
            "-- Epoch 1\n",
            "Norm: 14.59, NNZs: 12, Bias: -2.000000, T: 461, Avg. loss: 0.373102\n",
            "Total training time: 0.00 seconds.\n",
            "[[ 0. -2. -5. 10.  0.  0.  1.  3. -3.  2. -5.  3.  1.  0. -5.  1.]]\n",
            "[-2.]\n",
            "Misclassification Rate:  0.045553145336225564\n",
            "-- Epoch 1\n",
            "Norm: 18.89, NNZs: 13, Bias: -4.000000, T: 461, Avg. loss: 0.219089\n",
            "Total training time: 0.00 seconds.\n",
            "[[ 0. -1. -5. 13.  1.  0.  1.  2. -5.  3. -8.  1.  2.  0. -7.  2.]]\n",
            "[-4.]\n",
            "Misclassification Rate:  0.049891540130151846\n",
            "-- Epoch 1\n",
            "Norm: 19.52, NNZs: 14, Bias: -5.000000, T: 461, Avg. loss: 0.284165\n",
            "Total training time: 0.00 seconds.\n",
            "[[ 0. -1. -7. 14.  0. -1.  2.  4. -4.  2. -7.  1.  3. -1. -5.  3.]]\n",
            "[-5.]\n",
            "Misclassification Rate:  0.03470715835141003\n",
            "-- Epoch 1\n",
            "Norm: 20.49, NNZs: 16, Bias: -6.000000, T: 461, Avg. loss: 0.253796\n",
            "Total training time: 0.00 seconds.\n",
            "[[ 1. -1. -5. 14.  1. -2.  2.  4. -7.  3. -8.  2.  2. -1. -5.  4.]]\n",
            "[-6.]\n",
            "Misclassification Rate:  0.03687635574837311\n",
            "-- Epoch 1\n",
            "Norm: 22.78, NNZs: 15, Bias: -7.000000, T: 461, Avg. loss: 0.234273\n",
            "Total training time: 0.00 seconds.\n",
            "[[ 0. -1. -6. 16.  2. -2.  3.  5. -6.  5. -8.  2.  3.  1. -6.  3.]]\n",
            "[-7.]\n",
            "Misclassification Rate:  0.05639913232104121\n",
            "-- Epoch 1\n",
            "Norm: 23.11, NNZs: 15, Bias: -9.000000, T: 461, Avg. loss: 0.258134\n",
            "Total training time: 0.00 seconds.\n",
            "[[ 0. -1. -6. 16.  2. -2.  3.  6. -7.  4. -8.  3.  3. -2. -6.  1.]]\n",
            "[-9.]\n",
            "Misclassification Rate:  0.03253796095444683\n",
            "-- Epoch 1\n",
            "Norm: 23.66, NNZs: 15, Bias: -10.000000, T: 461, Avg. loss: 0.229935\n",
            "Total training time: 0.00 seconds.\n",
            "[[ 0. -1. -6. 16.  3. -1.  5.  6. -7.  3. -9.  2.  3. -2. -6.  2.]]\n",
            "[-10.]\n",
            "Misclassification Rate:  0.03253796095444683\n",
            "-- Epoch 1\n",
            "Norm: 24.68, NNZs: 14, Bias: -10.000000, T: 461, Avg. loss: 0.253796\n",
            "Total training time: 0.00 seconds.\n",
            "[[ 0.  0. -6. 17.  4. -1.  5.  6. -8.  4. -9.  1.  3. -1. -5.  3.]]\n",
            "[-10.]\n",
            "Misclassification Rate:  0.049891540130151846\n",
            "-- Epoch 1\n",
            "Norm: 25.81, NNZs: 14, Bias: -10.000000, T: 461, Avg. loss: 0.247289\n",
            "Total training time: 0.00 seconds.\n",
            "[[  0.   0.  -7.  18.   4.  -2.   6.   6.  -7.   4. -10.  -1.   3.  -1.\n",
            "   -4.   3.]]\n",
            "[-10.]\n",
            "Misclassification Rate:  0.02819956616052066\n",
            "-- Epoch 1\n",
            "Norm: 25.59, NNZs: 13, Bias: -11.000000, T: 461, Avg. loss: 0.251627\n",
            "Total training time: 0.00 seconds.\n",
            "[[ 0. -2. -7. 18.  4. -2.  5.  5. -8.  3. -9.  0.  3.  0. -6.  3.]]\n",
            "[-11.]\n",
            "Misclassification Rate:  0.03253796095444683\n"
          ]
        },
        {
          "name": "stderr",
          "output_type": "stream",
          "text": [
            "c:\\Users\\child\\AppData\\Local\\Programs\\Python\\Python311\\Lib\\site-packages\\sklearn\\linear_model\\_stochastic_gradient.py:744: ConvergenceWarning: Maximum number of iteration reached before convergence. Consider increasing max_iter to improve the fit.\n",
            "  warnings.warn(\n",
            "c:\\Users\\child\\AppData\\Local\\Programs\\Python\\Python311\\Lib\\site-packages\\sklearn\\linear_model\\_stochastic_gradient.py:744: ConvergenceWarning: Maximum number of iteration reached before convergence. Consider increasing max_iter to improve the fit.\n",
            "  warnings.warn(\n",
            "c:\\Users\\child\\AppData\\Local\\Programs\\Python\\Python311\\Lib\\site-packages\\sklearn\\linear_model\\_stochastic_gradient.py:744: ConvergenceWarning: Maximum number of iteration reached before convergence. Consider increasing max_iter to improve the fit.\n",
            "  warnings.warn(\n",
            "c:\\Users\\child\\AppData\\Local\\Programs\\Python\\Python311\\Lib\\site-packages\\sklearn\\linear_model\\_stochastic_gradient.py:744: ConvergenceWarning: Maximum number of iteration reached before convergence. Consider increasing max_iter to improve the fit.\n",
            "  warnings.warn(\n",
            "c:\\Users\\child\\AppData\\Local\\Programs\\Python\\Python311\\Lib\\site-packages\\sklearn\\linear_model\\_stochastic_gradient.py:744: ConvergenceWarning: Maximum number of iteration reached before convergence. Consider increasing max_iter to improve the fit.\n",
            "  warnings.warn(\n",
            "c:\\Users\\child\\AppData\\Local\\Programs\\Python\\Python311\\Lib\\site-packages\\sklearn\\linear_model\\_stochastic_gradient.py:744: ConvergenceWarning: Maximum number of iteration reached before convergence. Consider increasing max_iter to improve the fit.\n",
            "  warnings.warn(\n",
            "c:\\Users\\child\\AppData\\Local\\Programs\\Python\\Python311\\Lib\\site-packages\\sklearn\\linear_model\\_stochastic_gradient.py:744: ConvergenceWarning: Maximum number of iteration reached before convergence. Consider increasing max_iter to improve the fit.\n",
            "  warnings.warn(\n",
            "c:\\Users\\child\\AppData\\Local\\Programs\\Python\\Python311\\Lib\\site-packages\\sklearn\\linear_model\\_stochastic_gradient.py:744: ConvergenceWarning: Maximum number of iteration reached before convergence. Consider increasing max_iter to improve the fit.\n",
            "  warnings.warn(\n",
            "c:\\Users\\child\\AppData\\Local\\Programs\\Python\\Python311\\Lib\\site-packages\\sklearn\\linear_model\\_stochastic_gradient.py:744: ConvergenceWarning: Maximum number of iteration reached before convergence. Consider increasing max_iter to improve the fit.\n",
            "  warnings.warn(\n",
            "c:\\Users\\child\\AppData\\Local\\Programs\\Python\\Python311\\Lib\\site-packages\\sklearn\\linear_model\\_stochastic_gradient.py:744: ConvergenceWarning: Maximum number of iteration reached before convergence. Consider increasing max_iter to improve the fit.\n",
            "  warnings.warn(\n"
          ]
        },
        {
          "data": {
            "image/png": "[encoded data removed]",
            "text/plain": [
              "<Figure size 640x480 with 1 Axes>"
            ]
          },
          "metadata": {},
          "output_type": "display_data"
        }
      ],
      "source": [
        "# Learn once on the full voting data set, while gathering info after every epoch\n",
        "# Then Graph it here.  Here is some sample graph code, but you can do it your own way, including using a bar graph, etc.\n",
        "import matplotlib.pyplot as plt\n",
        "from sklearn.preprocessing import LabelEncoder\n",
        "\n",
        "# load the arff data\n",
        "votingData = arff.loadarff('voting.arff')\n",
        "\n",
        "# convert to a dataframe and encode the labels as 1/0\n",
        "votingDataFrame = pd.DataFrame(votingData[0])\n",
        "votingLabelsEncoded = votingDataFrame.apply(LabelEncoder().fit_transform)\n",
        "\n",
        "# init Perceptron with a learning rate of 1\n",
        "percept = Perceptron(eta0=1, verbose=1, max_iter=1, warm_start=True, random_state=20) # with random_state=20, it converges after 10 epochs\n",
        "\n",
        "# init training dataset\n",
        "DataSet_DF = pd.DataFrame(votingLabelsEncoded)\n",
        "DataSet_NP = DataSet_DF.to_numpy()\n",
        "DataSet_NP = DataSet_NP.astype(float)\n",
        "X = DataSet_NP[:, :-1]\n",
        "y = DataSet_NP[:, -1]\n",
        "\n",
        "\n",
        "misclassificationRateArray = [.5]\n",
        "# train on training dataset and print results\n",
        "for epoch in range(10):\n",
        "    percept.fit(X, y)\n",
        "    print(percept.coef_)\n",
        "    print(percept.intercept_)\n",
        "    misclassificationRate = 1-percept.score(X, y)\n",
        "    misclassificationRateArray.append(misclassificationRate)\n",
        "    print('Misclassification Rate: ', misclassificationRate)\n",
        "\n",
        "\n",
        "def plot_misclassification(misclassification_rate):\n",
        "    \"\"\"\n",
        "        Plots the misclassification rate\n",
        "    Args:\n",
        "        misclassification_rate (array-like): A 1D array or list of missclassifcation rate at every epoch\n",
        "    \"\"\"\n",
        "    plt.plot(np.arange(len(misclassification_rate)), misclassification_rate)\n",
        "    plt.title(\"Misclassification Rate vs. Epoch\")\n",
        "    plt.xlabel(\"Epoch\")\n",
        "    plt.ylabel(\"Misclassification Rate\")\n",
        "    plt.show()\n",
        "\n",
        "plot_misclassification(misclassificationRateArray)"
      ]
    },
    {
      "cell_type": "markdown",
      "metadata": {},
      "source": [
        "**Discussion:**  \n",
        "Observing the above results (Misclassification Rate Vs. Epochs), I see what I had expected.  \n",
        "\n",
        "First, I set my 0th epoch's misclassification rate to 0.5. I set my misclassification rate to 0.5 because initially the perceptron is basically guessing at the output of each input. Becuase there are only 2 options for outputs, guessing will cause an accuracy of 0.5. Calculating misclassification by 1 - 0.5, we see that misclassification is 0.5.  \n",
        "\n",
        "Then after the first epoch, we observe that the misclassification rate drops dramatically. My hypothesis for this dramatic drop in misclassification rate is because the perceptron does the most learning here, going from guessing to pretty educated decisions. Further, because this dataset is so big, by the time it has finished it's first epoch it has already seen 600+ data points and has a pretty good approximation of general trends.  \n",
        "\n",
        "While lots of learning happens in the first epoch, the fall in misclassificaion over the following epochs is less noticable, but definately still present. Because of the scale of the graph it is hard to see, but between epochs 1 and 9 we see an additional drop of 2%. So, while the perceptron learns a ton in the first epoch, over the following epochs it continues to refine it's model and finally converges when the changes in weights have slowed appropriately.  \n",
        "\n",
        "Looking at the above graph, the misclassification rate generally drops as the number of epochs increase until convergence."
      ]
    },
    {
      "cell_type": "markdown",
      "metadata": {},
      "source": [
        "### 3.4 (15%) Hyperparameters\n",
        "Read over all the Hyperparameters and their defaults in the scikit [perceptron documentation](https://scikit-learn.org/stable/modules/generated/sklearn.linear_model.Perceptron.html). With the voting data set, experiment briefly with EACH of the following 6 hyperparameters and discuss your findings.\n",
        "- shuffle\n",
        "- eta0 - learning rate\n",
        "- verbose\n",
        "- fit_intercept - whether to use a bias weight or not\n",
        "- random state\n",
        "- warm start"
      ]
    },
    {
      "cell_type": "code",
      "execution_count": 171,
      "metadata": {},
      "outputs": [
        {
          "name": "stdout",
          "output_type": "stream",
          "text": [
            "[[  0.  -3.  -8.  17.   4.  -2.   5.   6.  -7.   5. -10.  -1.  -1.   0.\n",
            "   -4.   5.]]\n",
            "[-9.]\n",
            "9\n",
            "Score:  0.9609544468546638\n",
            "[[ -1.   0.  -8.  18.   4.  -1.   4.   8.  -8.   6. -10.   1.   1.   1.\n",
            "   -7.   2.]]\n",
            "[-10.]\n",
            "7\n",
            "Score:  0.9587852494577006\n"
          ]
        }
      ],
      "source": [
        "# Run the model with different \n",
        "from scipy.io import arff\n",
        "import pandas as pd\n",
        "from sklearn.preprocessing import LabelEncoder\n",
        "from sklearn.linear_model import Perceptron\n",
        "\n",
        "# load the arff data\n",
        "votingData = arff.loadarff('voting.arff')\n",
        "\n",
        "# convert to a dataframe and encode the labels as 1/0\n",
        "votingDataFrame = pd.DataFrame(votingData[0])\n",
        "votingLabelsEncoded = votingDataFrame.apply(LabelEncoder().fit_transform)\n",
        "\n",
        "# init Perceptron with a learning rate of 1\n",
        "percept = Perceptron(eta0=1, warm_start=True)\n",
        "\n",
        "# init training dataset\n",
        "DataSet_DF = pd.DataFrame(votingLabelsEncoded)\n",
        "DataSet_NP = DataSet_DF.to_numpy()\n",
        "DataSet_NP = DataSet_NP.astype(float)\n",
        "X = DataSet_NP[:, :-1]\n",
        "y = DataSet_NP[:, -1]\n",
        "\n",
        "\n",
        "# train on training dataset and print results\n",
        "percept.fit(X, y)\n",
        "print(percept.coef_)\n",
        "print(percept.intercept_)\n",
        "print(percept.n_iter_)\n",
        "print('Score: ', percept.score(X, y))\n",
        "\n",
        "\n",
        "percept.fit(X, y)\n",
        "print(percept.coef_)\n",
        "print(percept.intercept_)\n",
        "print(percept.n_iter_)\n",
        "print('Score: ', percept.score(X, y))"
      ]
    },
    {
      "cell_type": "markdown",
      "metadata": {},
      "source": [
        "**Shuffle:**  \n",
        "When Shuffle is set to True (as it is by default), then the data will be shuffled after each epoch.  \n",
        "As I experimented with the shuffle hyperparameter on the scikit Perceptron class, I found that when shuffling it may take more epochs for the model to converge. For exmaple, using the voting data set and keeping all other hyperparameters the same (eta0=.1), running perceptron with shuffle=True, the model went through 9 epochs and converged with an accuracy score of 0.96529284164859. Meanwhile, keeping all other hyperparameters the same but setting shuffle=False, the model went through 8 epochs (one less than when shuffle=True) and converged with the same accuracy score, 0.96529284164859.  \n",
        "\n",
        "I think I observed this difference because when the data is not shuffled, it may encounter many of the same misclassifications early on and correct them more quickly. However, this could be a problem because it has just learned to fit those classifications and may not generalize as well. When shuffled, the model encounters misclassifications in a different order causing it to find a different path to convergence that may take longer, but will generalize to unseen data better.\n",
        "\n",
        "**eta0 - learning rate:**  \n",
        "eta0 is the constant that all updates are multiplied by. If this constant is big, then with each update the the weights will change dramatically.  \n",
        "\n",
        "As I played with the eta0, the first thing I noticed is that all weights are multiples of the eta0 value. This makes sense becaues eta0 is the constant each change in weight in multiplied by when updating weights.  \n",
        "\n",
        "As I continued experimenting, I found that increasing/decreasing the eta0 doesn't necessarily improve Test Accuracy or the number of epochs. As you can see in the table below, each eta0 produced slightly different results.\n",
        "\n",
        "| eta0 | Number of Epochs | Test Accuracy |\n",
        "| --- | --- | --- |\n",
        "| 0.00001 | 6 | 0.9587852494577006 |\n",
        "| 0.0001 | 6 | 0.9587852494577006 |\n",
        "| 0.001 | 6 | 0.9631236442516269 |\n",
        "| 0.01 | 6 | 0.9436008676789588 |\n",
        "| 0.1 | 9 | 0.96529284164859 |\n",
        "| 1 | 9 | 0.9609544468546638 |\n",
        "\n",
        "I figure that there is some variance in the Test Accuracy between learning rates because each learning rate will lead the model along a slightly different path to its convergence and some learning rates might be able to lead the bias/weights to seperate data between two points that bigger learning rates will not be able to land in because they are too big and their ajustments will jump over it.  \n",
        "\n",
        "I think the best way to determine the optimaly learning rate is the experiement with many different rates and see which is best for the given problem.\n",
        "\n",
        "\n",
        "**Verbose:**  \n",
        "The hyperparameter verbose determines how much information the model will output concerning its path to convergence. For example, when verbose is set to false, and nothing is printed (such as .coef_, .intercept_, .n_iter_), no information is output about the model. However, when verbose is set to True, the following information is output about each epoch:\n",
        "\n",
        "-- Epoch (#)\n",
        "Norm: 14.28, NNZs: 12, Bias: -2.000000, T: 461, Avg. loss: 0.305857\n",
        "Total training time: 0.00 seconds.\n",
        "...  \n",
        "  \n",
        "and at the end will finally output:  \n",
        "Convergence after __ epochs took ____ seconds\n",
        "\n",
        "\n",
        "**fit_intercept:**  \n",
        "The hyperparameter fit_intercept determines if a bias weight should be used to adjust the y-intercept. If fit_intercept is set to False, then the y-intercept will be assumed to be 0 and the resulting line is guarenteed to pass through the origin. This should be used when the data is alreay centered and the y-intercept does not need to be determined. The default value for fit-intercept is True, that means a bias will be used to determine the best y-intercept value for the model and weights.  \n",
        "\n",
        "fit_intercept does have an effect on the results of the perceptron model. For example, when fit_intercept is set to True, my model converged after 9 epochs with an accuracy of 0.9609544468546638. Meanwhile, when I set fit_intercept to False, keeping all other hyperparameters the same, the model converged after 11 epochs with an accuracy of 0.93058568329718.  \n",
        "\n",
        "I assume that the accuracy decreased and the number of epochs increased because the most optimal linearly seperating line through the origin is less optimal than the best line not required to pass through the origin.\n",
        "\n",
        "\n",
        "**random_state:**  \n",
        "When shuffle is set to True, random_state is used to reproduce the same shuffling every time accross function calls. For example, when random_state = 20, this model always converges after 10 epochs and has an accuracy of 0.9566160520607375, no matter how many times it is called this will remain constant. However, keeping all other hyperparameters the same, when random_state is set to 21 this model converges after 12 epochs and has an accuracy of 0.96529284164859, and again, this remains constant no matter now many times it is run.\n",
        "\n",
        "\n",
        "**warm_start:**  \n",
        "When warm_start is set to True, it uses the weights of the previous call to perceptron.fit() as a starting point rather than initializing to brand new, small weights. In my experimentation, I found that sometimes having a warm start helps improve accuracy, but there are often many times, especially when eta0 is large, that having a warm start will cause the weights to jump away from the optimal solution. \n",
        "\n",
        "For example, in my experimentation, I found that running perceptron once with eta0 set to .01, and then again with a warm_start on the same data, improved accuracy from 0.9436008676789588 to 0.9609544468546638 with 6 epochs for each .fit(). However, with larger learning rates, the opposite result was observed.\n",
        "\n",
        "With a learning rate of 1, the first learning produced an accuracy score of 0.9609544468546638 after 9 epochs. Then, a second learning with a warm start produced an accuracy of 0.9587852494577006 after 7 more epochs. Interestingly, having a warm start is not necessarily always good for improving accuracy, depending on the learning rate.\n"
      ]
    },
    {
      "cell_type": "markdown",
      "metadata": {
        "id": "mxssT08TzdRH"
      },
      "source": [
        "## 4 (15%) Use the perceptron to learn one other data set of your choice.  \n",
        "- The UC Irvine Data Repository is one great source, but you may get your data set from wherever you like, though it should be a real world task.\n",
        "- Report your results"
      ]
    },
    {
      "cell_type": "code",
      "execution_count": 201,
      "metadata": {
        "id": "hqPZLMf1zdRH"
      },
      "outputs": [
        {
          "name": "stderr",
          "output_type": "stream",
          "text": [
            "C:\\Users\\child\\AppData\\Local\\Temp\\ipykernel_1756\\273203284.py:31: FutureWarning: Downcasting behavior in `replace` is deprecated and will be removed in a future version. To retain the old behavior, explicitly call `result.infer_objects(copy=False)`. To opt-in to the future behavior, set `pd.set_option('future.no_silent_downcasting', True)`\n",
            "  y['income'] = y['income'].replace({'>50K': 1, '<=50K': 0})\n"
          ]
        },
        {
          "name": "stdout",
          "output_type": "stream",
          "text": [
            "coef:  [[  6.4109589    3.70501145   4.66666667 102.47610476   6.2855831\n",
            "    9.43877551   1.           4.           0.          -1.\n",
            "    2.           2.           0.           3.           0.\n",
            "   -1.          -2.          -2.           1.          -1.\n",
            "   -2.           0.          -2.           0.           3.\n",
            "    1.          -1.           2.         -10.           5.\n",
            "   -1.          -4.           5.           3.          -3.\n",
            "   -3.          -3.          -5.           0.           1.\n",
            "    4.           0.           3.          -7.           0.\n",
            "   -1.          -4.          -4.           2.           6.\n",
            "    7.           2.           2.           0.          -2.\n",
            "   -3.          -6.          -4.           5.          -4.\n",
            "   -2.          -3.           0.          -1.          -4.\n",
            "   -6.          -3.           0.           2.          -4.\n",
            "   -7.          -2.          -4.          -1.          -3.\n",
            "    1.           0.           1.          -4.          -2.\n",
            "    2.           0.          -2.          -3.           0.\n",
            "    0.          -3.           2.           1.           4.\n",
            "   -1.          -7.          -4.          -3.          -5.\n",
            "   -4.          -1.           1.           2.          -1.\n",
            "   -4.          -3.          -1.          -5.          -6.\n",
            "    0.          -5.           2.        ]]\n",
            "intercept:  [-10.]\n",
            "iterations 12\n",
            "Score:  0.8321936038655255\n"
          ]
        }
      ],
      "source": [
        "# Load and Train on your dataset and report results\n",
        "\n",
        "from ucimlrepo import fetch_ucirepo \n",
        "  \n",
        "# fetch dataset \n",
        "adult = fetch_ucirepo(id=2) \n",
        "\n",
        "# data (as pandas dataframes) \n",
        "X = adult.data.features \n",
        "y = adult.data.targets.copy()\n",
        "\n",
        "# make features suitable for perceptron input\n",
        "X = pd.get_dummies(X, columns=['workclass'])\n",
        "X['age'] = (X['age'] - X['age'].min()) / (X['age'].max() - X['age'].min())\n",
        "X['fnlwgt'] = (X['fnlwgt'] - X['fnlwgt'].min()) / (X['fnlwgt'].max() - X['fnlwgt'].min())\n",
        "X = pd.get_dummies(X, columns=['education'])\n",
        "X['education-num'] = (X['education-num'] - X['education-num'].min()) / (X['education-num'].max() - X['education-num'].min())\n",
        "X = pd.get_dummies(X, columns=['marital-status'])\n",
        "X = pd.get_dummies(X, columns=['occupation'])\n",
        "X = pd.get_dummies(X, columns=['relationship'])\n",
        "X = pd.get_dummies(X, columns=['race'])\n",
        "X = pd.get_dummies(X, columns=['sex'])\n",
        "X = pd.get_dummies(X, columns=['native-country'])\n",
        "X['capital-gain'] = (X['capital-gain'] - X['capital-gain'].min()) / (X['capital-gain'].max() - X['capital-gain'].min())\n",
        "X['capital-loss'] = (X['capital-loss'] - X['capital-loss'].min()) / (X['capital-loss'].max() - X['capital-loss'].min())\n",
        "X['hours-per-week'] = (X['hours-per-week'] - X['hours-per-week'].min()) / (X['hours-per-week'].max() - X['hours-per-week'].min())\n",
        "\n",
        "# make all target values 1 or 0\n",
        "y.loc[y['income'] == '>50K.', 'income'] = '>50K'\n",
        "y.loc[y['income'] == '<=50K.', 'income'] = '<=50K'\n",
        "y['income'] = y['income'].replace({'>50K': 1, '<=50K': 0})\n",
        "\n",
        "\n",
        "# init perceptron\n",
        "percept = Perceptron(eta0=1, shuffle=True)\n",
        "\n",
        "X = X.to_numpy().astype(float) # training data\n",
        "y = y['income'].to_numpy() # target data\n",
        "\n",
        "# train on training dataset and print results\n",
        "percept.fit(X, y)\n",
        "\n",
        "# output results\n",
        "print('coef: ', percept.coef_)\n",
        "print('intercept: ', percept.intercept_)\n",
        "print('iterations', percept.n_iter_)\n",
        "print('Score: ', percept.score(X, y))"
      ]
    },
    {
      "cell_type": "markdown",
      "metadata": {
        "id": "BqSFAXwlk3Ms"
      },
      "source": [
        "*Discuss how the perceptron did on the data set and why you think it performed as such.*\n",
        "\n",
        "I used the dataset from UC Irvine on adult incomes. This dataset provides 13 input features including: age, working class, education, marital status, occupation, relationship, race, etc...  \n",
        "\n",
        "Additionally, this dataset includes 1 target feature: income classified by <=50K or >50K.  \n",
        "\n",
        "All things considered, I think that I did really well learning on my dataset! After 12 epochs, my model converged with an accuracy of 83%. Below I will note challenges I faced when working with this data set and factors that may have contributed to my accuracy.\n",
        "\n",
        "Many of these input features were not values that perceptron can learn from. For example, occupation, work-class, and native-country are values that are not directly quantifiable. Further, these vales if they were converted directly from country (for example) to an integer, it would miscommunicate to the percetron model the meaning of those numbers. That is, if United States mapped to 1 and Cambodia mapped to 2, the perceptron would interprit that to mean that the United States and Cambodia are similar countries. In cases such as this, I used pd.get_dummies(X, columns=['workclass']) to create a new input for each potential workclass value. \n",
        "\n",
        "Another issue I faced was that some values had huge ranges of values (0 - 1000000), while others had smaller ranges. If left like this, the weights would be skewed in the direction of the weights with huge ranges because each weight update would be magnified by the large numbers. To solve this problem, all integer inputs were normalized on a range of 0 - 1.  \n",
        "\n",
        "Finally, when I ran the perceptron model on this data with a learning rate of 1, I was able to predict the income class of a person with 83.219% accuracy. I think this is pretty good! Analyzing the final weights of the model, it looks like a person's education had an huge impact on their income. I say this because while most of the weights are between -10 and +10, education was given a weight of 102. This means that the perceptron found that it was most correct when it put a heavy weight on a person's education level.  \n",
        "\n",
        "Normalization is another way I may have gotten the results I did. To see what would have happened had I not normalized results, I removed all column normalizations and re-ran my perceptron model. As one might have guessed, my accuracy dropped by 6%. I think that by normalzaion I improved my results dramatically."
      ]
    },
    {
      "cell_type": "markdown",
      "metadata": {
        "id": "cTlK-kijk8Mg"
      },
      "source": [
        "## 5. (Optional 15% extra credit) Code up your own perceptron learner \n",
        "\n",
        "Past versions of this class required students to code up their own version of each model and then compare results with scikit-learn.  Actually coding a model leads to better understanding of what is really happening \"under the hood.\"  Though not required for this class, we give a significant extra credit reward for each lab to those who choose to code their own models.  If you choose to do this, your code must be your own, and NOT taken from any other source (including the text).  Once you are done coding we encourage you to look at other versions to see how yours compares.  Below is a scaffold you could use if you want. Requirements for this task:\n",
        "- Your perceptron should support the methods shown in the example scaffold below.\n",
        "- Your output node should output 1 if net is > 0, else 0.\n",
        "- Use Stochastic/On-line training updates: Iterate and update weights after each training instance (i.e. not batch updates)\n",
        "- Implement a stopping criteria: when your model has trained for a number of epochs with no improvement in accuracy, stop training. Note that the weights/accuracy do not usually change monotonically.\n",
        "- Your class can inherit from the relevant scikit-learn learners (e.g. data shuffling, etc.), but don't call any of the super methods to accomplish the core methods in the scaffold.\n",
        "- Run the evaluation data set and the voting data set above with your Perceptron version. Show and discuss your results and how they compare with the scikit-learn version."
      ]
    },
    {
      "cell_type": "code",
      "execution_count": 12,
      "metadata": {
        "id": "5iY77P7gk1Nh"
      },
      "outputs": [],
      "source": [
        "# Your Perceptron Code"
      ]
    },
    {
      "cell_type": "markdown",
      "metadata": {
        "id": "CCMC9aHQ-IGL"
      },
      "source": [
        "*Discussion*"
      ]
    },
    {
      "cell_type": "code",
      "execution_count": null,
      "metadata": {},
      "outputs": [],
      "source": [
        "# Optional scaffold for Extra Credit Perceptron code.  IF you use this feel free to change/add any methods you want.\n",
        "\n",
        "from sklearn.base import BaseEstimator, ClassifierMixin\n",
        "class PerceptronClassifier(BaseEstimator,ClassifierMixin):\n",
        "\n",
        "    def __init__(self, lr=.1, shuffle=True):\n",
        "        \"\"\" \n",
        "            Initialize class with chosen hyperparameters.\n",
        "        Args:\n",
        "            lr (float): A learning rate / step size.\n",
        "            shuffle: Whether to shuffle the training data each epoch. DO NOT \n",
        "            SHUFFLE for evaluation / debug datasets.\n",
        "        \"\"\"\n",
        "        self.lr = lr\n",
        "        self.shuffle = shuffle\n",
        "\n",
        "    def fit(self, X, y, initial_weights=None):\n",
        "        \"\"\" \n",
        "            Fit the data; run the algorithm and adjust the weights to find a \n",
        "            good solution\n",
        "        Args:\n",
        "            X (array-like): A 2D numpy array with the training data, excluding\n",
        "            targets\n",
        "            y (array-like): A 2D numpy array with the training targets\n",
        "            initial_weights (array-like): allows the user to provide initial \n",
        "            weights\n",
        "        Returns:\n",
        "            self: this allows this to be chained, e.g. model.fit(X,y).predict(X_test)\n",
        "        \"\"\"\n",
        "        self.weights = self.initialize_weights() if not initial_weights else initial_weights\n",
        "\n",
        "        return self\n",
        "\n",
        "    def predict(self, X):\n",
        "        \"\"\" \n",
        "            Predict all classes for a dataset X\n",
        "        Args:\n",
        "            X (array-like): A 2D numpy array with the training data, excluding \n",
        "            targets\n",
        "        Returns:\n",
        "            array, shape (n_samples,)\n",
        "                Predicted target values per element in X.\n",
        "        \"\"\"\n",
        "        pass\n",
        "\n",
        "    def initialize_weights(self):\n",
        "        \"\"\" Initialize weights for perceptron. Don't forget the bias!\n",
        "        Returns:\n",
        "        \"\"\"\n",
        "\n",
        "        return [0]\n",
        "\n",
        "    def score(self, X, y):\n",
        "        \"\"\" \n",
        "            Return accuracy of model on a given dataset. Must implement own \n",
        "            score function.\n",
        "        Args:\n",
        "            X (array-like): A 2D numpy array with data, excluding targets\n",
        "            y (array-like): A 2D numpy array with targets\n",
        "        Returns:\n",
        "            score : float\n",
        "                Mean accuracy of self.predict(X) wrt. y.\n",
        "        \"\"\"\n",
        "\n",
        "        return 0\n",
        "\n",
        "    ### Returns the weights and bias. Not required but great for debugging.\n",
        "    def get_weights(self):\n",
        "        pass"
      ]
    }
  ],
  "metadata": {
    "colab": {
      "collapsed_sections": [],
      "provenance": []
    },
    "kernelspec": {
      "display_name": "Python 2.7.16 64-bit",
      "language": "python",
      "name": "python3"
    },
    "language_info": {
      "codemirror_mode": {
        "name": "ipython",
        "version": 3
      },
      "file_extension": ".py",
      "mimetype": "text/x-python",
      "name": "python",
      "nbconvert_exporter": "python",
      "pygments_lexer": "ipython3",
      "version": "3.11.1"
    },
    "vscode": {
      "interpreter": {
        "hash": "767d51c1340bd893661ea55ea3124f6de3c7a262a8b4abca0554b478b1e2ff90"
      }
    }
  },
  "nbformat": 4,
  "nbformat_minor": 0
}
